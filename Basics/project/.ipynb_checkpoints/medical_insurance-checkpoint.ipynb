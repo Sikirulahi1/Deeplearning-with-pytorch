{
 "cells": [
  {
   "cell_type": "code",
   "execution_count": 1,
   "id": "a3f60038",
   "metadata": {},
   "outputs": [],
   "source": [
    "import torch\n",
    "import pandas as pd\n",
    "import numpy as np\n",
    "import matplotlib.pyplot as plt"
   ]
  },
  {
   "cell_type": "code",
   "execution_count": 2,
   "id": "f6196b39",
   "metadata": {},
   "outputs": [
    {
     "data": {
      "text/html": [
       "<div>\n",
       "<style scoped>\n",
       "    .dataframe tbody tr th:only-of-type {\n",
       "        vertical-align: middle;\n",
       "    }\n",
       "\n",
       "    .dataframe tbody tr th {\n",
       "        vertical-align: top;\n",
       "    }\n",
       "\n",
       "    .dataframe thead th {\n",
       "        text-align: right;\n",
       "    }\n",
       "</style>\n",
       "<table border=\"1\" class=\"dataframe\">\n",
       "  <thead>\n",
       "    <tr style=\"text-align: right;\">\n",
       "      <th></th>\n",
       "      <th>age</th>\n",
       "      <th>sex</th>\n",
       "      <th>bmi</th>\n",
       "      <th>children</th>\n",
       "      <th>smoker</th>\n",
       "      <th>region</th>\n",
       "      <th>charges</th>\n",
       "    </tr>\n",
       "  </thead>\n",
       "  <tbody>\n",
       "    <tr>\n",
       "      <th>0</th>\n",
       "      <td>19</td>\n",
       "      <td>female</td>\n",
       "      <td>27.900</td>\n",
       "      <td>0</td>\n",
       "      <td>yes</td>\n",
       "      <td>southwest</td>\n",
       "      <td>16884.92400</td>\n",
       "    </tr>\n",
       "    <tr>\n",
       "      <th>1</th>\n",
       "      <td>18</td>\n",
       "      <td>male</td>\n",
       "      <td>33.770</td>\n",
       "      <td>1</td>\n",
       "      <td>no</td>\n",
       "      <td>southeast</td>\n",
       "      <td>1725.55230</td>\n",
       "    </tr>\n",
       "    <tr>\n",
       "      <th>2</th>\n",
       "      <td>28</td>\n",
       "      <td>male</td>\n",
       "      <td>33.000</td>\n",
       "      <td>3</td>\n",
       "      <td>no</td>\n",
       "      <td>southeast</td>\n",
       "      <td>4449.46200</td>\n",
       "    </tr>\n",
       "    <tr>\n",
       "      <th>3</th>\n",
       "      <td>33</td>\n",
       "      <td>male</td>\n",
       "      <td>22.705</td>\n",
       "      <td>0</td>\n",
       "      <td>no</td>\n",
       "      <td>northwest</td>\n",
       "      <td>21984.47061</td>\n",
       "    </tr>\n",
       "    <tr>\n",
       "      <th>4</th>\n",
       "      <td>32</td>\n",
       "      <td>male</td>\n",
       "      <td>28.880</td>\n",
       "      <td>0</td>\n",
       "      <td>no</td>\n",
       "      <td>northwest</td>\n",
       "      <td>3866.85520</td>\n",
       "    </tr>\n",
       "    <tr>\n",
       "      <th>...</th>\n",
       "      <td>...</td>\n",
       "      <td>...</td>\n",
       "      <td>...</td>\n",
       "      <td>...</td>\n",
       "      <td>...</td>\n",
       "      <td>...</td>\n",
       "      <td>...</td>\n",
       "    </tr>\n",
       "    <tr>\n",
       "      <th>1333</th>\n",
       "      <td>50</td>\n",
       "      <td>male</td>\n",
       "      <td>30.970</td>\n",
       "      <td>3</td>\n",
       "      <td>no</td>\n",
       "      <td>northwest</td>\n",
       "      <td>10600.54830</td>\n",
       "    </tr>\n",
       "    <tr>\n",
       "      <th>1334</th>\n",
       "      <td>18</td>\n",
       "      <td>female</td>\n",
       "      <td>31.920</td>\n",
       "      <td>0</td>\n",
       "      <td>no</td>\n",
       "      <td>northeast</td>\n",
       "      <td>2205.98080</td>\n",
       "    </tr>\n",
       "    <tr>\n",
       "      <th>1335</th>\n",
       "      <td>18</td>\n",
       "      <td>female</td>\n",
       "      <td>36.850</td>\n",
       "      <td>0</td>\n",
       "      <td>no</td>\n",
       "      <td>southeast</td>\n",
       "      <td>1629.83350</td>\n",
       "    </tr>\n",
       "    <tr>\n",
       "      <th>1336</th>\n",
       "      <td>21</td>\n",
       "      <td>female</td>\n",
       "      <td>25.800</td>\n",
       "      <td>0</td>\n",
       "      <td>no</td>\n",
       "      <td>southwest</td>\n",
       "      <td>2007.94500</td>\n",
       "    </tr>\n",
       "    <tr>\n",
       "      <th>1337</th>\n",
       "      <td>61</td>\n",
       "      <td>female</td>\n",
       "      <td>29.070</td>\n",
       "      <td>0</td>\n",
       "      <td>yes</td>\n",
       "      <td>northwest</td>\n",
       "      <td>29141.36030</td>\n",
       "    </tr>\n",
       "  </tbody>\n",
       "</table>\n",
       "<p>1338 rows × 7 columns</p>\n",
       "</div>"
      ],
      "text/plain": [
       "      age     sex     bmi  children smoker     region      charges\n",
       "0      19  female  27.900         0    yes  southwest  16884.92400\n",
       "1      18    male  33.770         1     no  southeast   1725.55230\n",
       "2      28    male  33.000         3     no  southeast   4449.46200\n",
       "3      33    male  22.705         0     no  northwest  21984.47061\n",
       "4      32    male  28.880         0     no  northwest   3866.85520\n",
       "...   ...     ...     ...       ...    ...        ...          ...\n",
       "1333   50    male  30.970         3     no  northwest  10600.54830\n",
       "1334   18  female  31.920         0     no  northeast   2205.98080\n",
       "1335   18  female  36.850         0     no  southeast   1629.83350\n",
       "1336   21  female  25.800         0     no  southwest   2007.94500\n",
       "1337   61  female  29.070         0    yes  northwest  29141.36030\n",
       "\n",
       "[1338 rows x 7 columns]"
      ]
     },
     "execution_count": 2,
     "metadata": {},
     "output_type": "execute_result"
    }
   ],
   "source": [
    "df = pd.read_csv(\"insurance.csv\")\n",
    "df"
   ]
  },
  {
   "cell_type": "code",
   "execution_count": 3,
   "id": "ddd95d02",
   "metadata": {},
   "outputs": [
    {
     "data": {
      "text/plain": [
       "(1338, 7)"
      ]
     },
     "execution_count": 3,
     "metadata": {},
     "output_type": "execute_result"
    }
   ],
   "source": [
    "df.shape"
   ]
  },
  {
   "cell_type": "code",
   "execution_count": 4,
   "id": "77c9ae12",
   "metadata": {},
   "outputs": [
    {
     "name": "stdout",
     "output_type": "stream",
     "text": [
      "<class 'pandas.core.frame.DataFrame'>\n",
      "RangeIndex: 1338 entries, 0 to 1337\n",
      "Data columns (total 7 columns):\n",
      " #   Column    Non-Null Count  Dtype  \n",
      "---  ------    --------------  -----  \n",
      " 0   age       1338 non-null   int64  \n",
      " 1   sex       1338 non-null   object \n",
      " 2   bmi       1338 non-null   float64\n",
      " 3   children  1338 non-null   int64  \n",
      " 4   smoker    1338 non-null   object \n",
      " 5   region    1338 non-null   object \n",
      " 6   charges   1338 non-null   float64\n",
      "dtypes: float64(2), int64(2), object(3)\n",
      "memory usage: 73.3+ KB\n"
     ]
    }
   ],
   "source": [
    "df.info()"
   ]
  },
  {
   "cell_type": "code",
   "execution_count": 5,
   "id": "83af33b7",
   "metadata": {},
   "outputs": [
    {
     "data": {
      "text/plain": [
       "age         0\n",
       "sex         0\n",
       "bmi         0\n",
       "children    0\n",
       "smoker      0\n",
       "region      0\n",
       "charges     0\n",
       "dtype: int64"
      ]
     },
     "execution_count": 5,
     "metadata": {},
     "output_type": "execute_result"
    }
   ],
   "source": [
    "# Check for null values\n",
    "df.isna().sum()"
   ]
  },
  {
   "cell_type": "code",
   "execution_count": 6,
   "id": "05a584f8",
   "metadata": {},
   "outputs": [
    {
     "data": {
      "text/plain": [
       "['sex', 'smoker', 'region']"
      ]
     },
     "execution_count": 6,
     "metadata": {},
     "output_type": "execute_result"
    }
   ],
   "source": [
    "cat_var = [x for x in df.columns if df[x].dtypes == 'object']\n",
    "cat_var"
   ]
  },
  {
   "cell_type": "code",
   "execution_count": 7,
   "id": "ca87565f",
   "metadata": {},
   "outputs": [],
   "source": [
    "# Using Label Encoder\n",
    "from sklearn.preprocessing import LabelEncoder\n",
    "\n",
    "enc = LabelEncoder()\n",
    "for col in cat_var:\n",
    "    df[col] = enc.fit_transform(df[col])"
   ]
  },
  {
   "cell_type": "code",
   "execution_count": 8,
   "id": "3a56c79e",
   "metadata": {},
   "outputs": [
    {
     "data": {
      "text/html": [
       "<div>\n",
       "<style scoped>\n",
       "    .dataframe tbody tr th:only-of-type {\n",
       "        vertical-align: middle;\n",
       "    }\n",
       "\n",
       "    .dataframe tbody tr th {\n",
       "        vertical-align: top;\n",
       "    }\n",
       "\n",
       "    .dataframe thead th {\n",
       "        text-align: right;\n",
       "    }\n",
       "</style>\n",
       "<table border=\"1\" class=\"dataframe\">\n",
       "  <thead>\n",
       "    <tr style=\"text-align: right;\">\n",
       "      <th></th>\n",
       "      <th>age</th>\n",
       "      <th>sex</th>\n",
       "      <th>bmi</th>\n",
       "      <th>children</th>\n",
       "      <th>smoker</th>\n",
       "      <th>region</th>\n",
       "      <th>charges</th>\n",
       "    </tr>\n",
       "  </thead>\n",
       "  <tbody>\n",
       "    <tr>\n",
       "      <th>0</th>\n",
       "      <td>19</td>\n",
       "      <td>0</td>\n",
       "      <td>27.900</td>\n",
       "      <td>0</td>\n",
       "      <td>1</td>\n",
       "      <td>3</td>\n",
       "      <td>16884.92400</td>\n",
       "    </tr>\n",
       "    <tr>\n",
       "      <th>1</th>\n",
       "      <td>18</td>\n",
       "      <td>1</td>\n",
       "      <td>33.770</td>\n",
       "      <td>1</td>\n",
       "      <td>0</td>\n",
       "      <td>2</td>\n",
       "      <td>1725.55230</td>\n",
       "    </tr>\n",
       "    <tr>\n",
       "      <th>2</th>\n",
       "      <td>28</td>\n",
       "      <td>1</td>\n",
       "      <td>33.000</td>\n",
       "      <td>3</td>\n",
       "      <td>0</td>\n",
       "      <td>2</td>\n",
       "      <td>4449.46200</td>\n",
       "    </tr>\n",
       "    <tr>\n",
       "      <th>3</th>\n",
       "      <td>33</td>\n",
       "      <td>1</td>\n",
       "      <td>22.705</td>\n",
       "      <td>0</td>\n",
       "      <td>0</td>\n",
       "      <td>1</td>\n",
       "      <td>21984.47061</td>\n",
       "    </tr>\n",
       "    <tr>\n",
       "      <th>4</th>\n",
       "      <td>32</td>\n",
       "      <td>1</td>\n",
       "      <td>28.880</td>\n",
       "      <td>0</td>\n",
       "      <td>0</td>\n",
       "      <td>1</td>\n",
       "      <td>3866.85520</td>\n",
       "    </tr>\n",
       "    <tr>\n",
       "      <th>...</th>\n",
       "      <td>...</td>\n",
       "      <td>...</td>\n",
       "      <td>...</td>\n",
       "      <td>...</td>\n",
       "      <td>...</td>\n",
       "      <td>...</td>\n",
       "      <td>...</td>\n",
       "    </tr>\n",
       "    <tr>\n",
       "      <th>1333</th>\n",
       "      <td>50</td>\n",
       "      <td>1</td>\n",
       "      <td>30.970</td>\n",
       "      <td>3</td>\n",
       "      <td>0</td>\n",
       "      <td>1</td>\n",
       "      <td>10600.54830</td>\n",
       "    </tr>\n",
       "    <tr>\n",
       "      <th>1334</th>\n",
       "      <td>18</td>\n",
       "      <td>0</td>\n",
       "      <td>31.920</td>\n",
       "      <td>0</td>\n",
       "      <td>0</td>\n",
       "      <td>0</td>\n",
       "      <td>2205.98080</td>\n",
       "    </tr>\n",
       "    <tr>\n",
       "      <th>1335</th>\n",
       "      <td>18</td>\n",
       "      <td>0</td>\n",
       "      <td>36.850</td>\n",
       "      <td>0</td>\n",
       "      <td>0</td>\n",
       "      <td>2</td>\n",
       "      <td>1629.83350</td>\n",
       "    </tr>\n",
       "    <tr>\n",
       "      <th>1336</th>\n",
       "      <td>21</td>\n",
       "      <td>0</td>\n",
       "      <td>25.800</td>\n",
       "      <td>0</td>\n",
       "      <td>0</td>\n",
       "      <td>3</td>\n",
       "      <td>2007.94500</td>\n",
       "    </tr>\n",
       "    <tr>\n",
       "      <th>1337</th>\n",
       "      <td>61</td>\n",
       "      <td>0</td>\n",
       "      <td>29.070</td>\n",
       "      <td>0</td>\n",
       "      <td>1</td>\n",
       "      <td>1</td>\n",
       "      <td>29141.36030</td>\n",
       "    </tr>\n",
       "  </tbody>\n",
       "</table>\n",
       "<p>1338 rows × 7 columns</p>\n",
       "</div>"
      ],
      "text/plain": [
       "      age  sex     bmi  children  smoker  region      charges\n",
       "0      19    0  27.900         0       1       3  16884.92400\n",
       "1      18    1  33.770         1       0       2   1725.55230\n",
       "2      28    1  33.000         3       0       2   4449.46200\n",
       "3      33    1  22.705         0       0       1  21984.47061\n",
       "4      32    1  28.880         0       0       1   3866.85520\n",
       "...   ...  ...     ...       ...     ...     ...          ...\n",
       "1333   50    1  30.970         3       0       1  10600.54830\n",
       "1334   18    0  31.920         0       0       0   2205.98080\n",
       "1335   18    0  36.850         0       0       2   1629.83350\n",
       "1336   21    0  25.800         0       0       3   2007.94500\n",
       "1337   61    0  29.070         0       1       1  29141.36030\n",
       "\n",
       "[1338 rows x 7 columns]"
      ]
     },
     "execution_count": 8,
     "metadata": {},
     "output_type": "execute_result"
    }
   ],
   "source": [
    "df"
   ]
  },
  {
   "cell_type": "code",
   "execution_count": 9,
   "id": "2a2c7abe",
   "metadata": {},
   "outputs": [],
   "source": [
    "# Scaling : min max scaling\n",
    "data = df.drop('charges', axis = 1)\n",
    "data = data.apply(lambda x: (x - x.min())/(x.max() - x.min()))\n",
    "data['charges'] = df.charges"
   ]
  },
  {
   "cell_type": "code",
   "execution_count": 10,
   "id": "61d5b7ec",
   "metadata": {},
   "outputs": [],
   "source": [
    "x = data.drop('charges', axis = 1).to_numpy()\n",
    "y = df.charges.to_numpy()"
   ]
  },
  {
   "cell_type": "code",
   "execution_count": 84,
   "id": "4d3b9e6d",
   "metadata": {},
   "outputs": [],
   "source": [
    "from sklearn.model_selection import train_test_split\n",
    "X_train, X_test, y_train, y_test = train_test_split(x, y, random_state = 0)"
   ]
  },
  {
   "cell_type": "code",
   "execution_count": 85,
   "id": "47100f0d",
   "metadata": {},
   "outputs": [
    {
     "name": "stdout",
     "output_type": "stream",
     "text": [
      "(1003, 6)\n",
      "(1003,)\n",
      "(335, 6)\n",
      "(335,)\n"
     ]
    }
   ],
   "source": [
    "print(X_train.shape)\n",
    "print(y_train.shape)\n",
    "print(X_test.shape)\n",
    "print(y_test.shape)"
   ]
  },
  {
   "cell_type": "code",
   "execution_count": 86,
   "id": "97d4616a",
   "metadata": {},
   "outputs": [],
   "source": [
    "X_train = torch.tensor(X_train, dtype = torch.float32)\n",
    "X_test = torch.tensor(X_test, dtype = torch.float32)\n",
    "y_train = torch.tensor(y_train, dtype = torch.float32).view(-1, 1)\n",
    "y_test = torch.tensor(y_test, dtype = torch.float32).view(-1, 1)"
   ]
  },
  {
   "cell_type": "code",
   "execution_count": 87,
   "id": "a4d5bed0",
   "metadata": {},
   "outputs": [
    {
     "data": {
      "text/plain": [
       "tensor([[0.3043, 0.0000, 0.3667, 0.2000, 0.0000, 0.6667],\n",
       "        [0.9348, 0.0000, 0.1636, 0.0000, 0.0000, 0.0000],\n",
       "        [0.0217, 1.0000, 0.2324, 0.2000, 0.0000, 1.0000],\n",
       "        ...,\n",
       "        [0.4783, 1.0000, 0.2454, 0.0000, 0.0000, 0.6667],\n",
       "        [0.0217, 1.0000, 0.5265, 0.0000, 0.0000, 0.3333],\n",
       "        [0.3261, 0.0000, 0.0683, 0.2000, 0.0000, 1.0000]])"
      ]
     },
     "execution_count": 87,
     "metadata": {},
     "output_type": "execute_result"
    }
   ],
   "source": [
    "X_train"
   ]
  },
  {
   "cell_type": "code",
   "execution_count": 88,
   "id": "97277266",
   "metadata": {},
   "outputs": [
    {
     "data": {
      "text/plain": [
       "tensor([[0.7391, 1.0000, 0.3831, 0.2000, 0.0000, 1.0000],\n",
       "        [0.6304, 0.0000, 0.3608, 0.2000, 0.0000, 0.6667],\n",
       "        [0.6522, 1.0000, 0.6620, 0.4000, 1.0000, 0.3333],\n",
       "        ...,\n",
       "        [0.7174, 1.0000, 0.3785, 0.2000, 0.0000, 0.6667],\n",
       "        [0.1087, 1.0000, 0.5687, 0.6000, 0.0000, 1.0000],\n",
       "        [0.9348, 0.0000, 0.3527, 0.0000, 1.0000, 0.3333]])"
      ]
     },
     "execution_count": 88,
     "metadata": {},
     "output_type": "execute_result"
    }
   ],
   "source": [
    "X_test"
   ]
  },
  {
   "cell_type": "code",
   "execution_count": 89,
   "id": "8f878498",
   "metadata": {},
   "outputs": [],
   "source": [
    "import torch.nn as nn\n",
    "from torch.utils.data import TensorDataset, DataLoader"
   ]
  },
  {
   "cell_type": "code",
   "execution_count": 90,
   "id": "08b2e468",
   "metadata": {},
   "outputs": [],
   "source": [
    "data = TensorDataset(X_train, y_train)"
   ]
  },
  {
   "cell_type": "code",
   "execution_count": 91,
   "id": "975358d1",
   "metadata": {},
   "outputs": [],
   "source": [
    "batch_size = 10\n",
    "train_dl = DataLoader(data, batch_size, shuffle = True)"
   ]
  },
  {
   "cell_type": "code",
   "execution_count": 92,
   "id": "0cc65e23",
   "metadata": {},
   "outputs": [],
   "source": [
    "# Creating a model : it will just generate random parameters\n",
    "x_num = X_train.shape[1]\n",
    "\n",
    "model = nn.Linear(x_num, 1)"
   ]
  },
  {
   "cell_type": "code",
   "execution_count": 93,
   "id": "17133139",
   "metadata": {},
   "outputs": [
    {
     "data": {
      "text/plain": [
       "[Parameter containing:\n",
       " tensor([[ 0.3358,  0.3467,  0.2750, -0.0371,  0.3468, -0.0123]],\n",
       "        requires_grad=True),\n",
       " Parameter containing:\n",
       " tensor([0.0973], requires_grad=True)]"
      ]
     },
     "execution_count": 93,
     "metadata": {},
     "output_type": "execute_result"
    }
   ],
   "source": [
    "list(model.parameters())"
   ]
  },
  {
   "cell_type": "code",
   "execution_count": 94,
   "id": "b1a3afe6",
   "metadata": {},
   "outputs": [
    {
     "name": "stdout",
     "output_type": "stream",
     "text": [
      "Parameter containing:\n",
      "tensor([[ 0.3358,  0.3467,  0.2750, -0.0371,  0.3468, -0.0123]],\n",
      "       requires_grad=True)\n",
      "Parameter containing:\n",
      "tensor([0.0973], requires_grad=True)\n"
     ]
    }
   ],
   "source": [
    "print(model.weight)\n",
    "print(model.bias)"
   ]
  },
  {
   "cell_type": "code",
   "execution_count": 95,
   "id": "9e2d31ce",
   "metadata": {},
   "outputs": [],
   "source": [
    "# Create a loss function\n",
    "import torch.nn.functional as f\n",
    "loss_fn = f.mse_loss"
   ]
  },
  {
   "cell_type": "code",
   "execution_count": 96,
   "id": "124b4b1b",
   "metadata": {},
   "outputs": [
    {
     "data": {
      "text/plain": [
       "tensor(3.1753e+08, grad_fn=<MseLossBackward0>)"
      ]
     },
     "execution_count": 96,
     "metadata": {},
     "output_type": "execute_result"
    }
   ],
   "source": [
    "loss_fn(model(X_train), y_train)"
   ]
  },
  {
   "cell_type": "code",
   "execution_count": 97,
   "id": "4e663254",
   "metadata": {},
   "outputs": [
    {
     "data": {
      "text/plain": [
       "torch.float32"
      ]
     },
     "execution_count": 97,
     "metadata": {},
     "output_type": "execute_result"
    }
   ],
   "source": [
    "X_train.dtype"
   ]
  },
  {
   "cell_type": "code",
   "execution_count": 98,
   "id": "981af199",
   "metadata": {},
   "outputs": [
    {
     "data": {
      "text/plain": [
       "torch.float32"
      ]
     },
     "execution_count": 98,
     "metadata": {},
     "output_type": "execute_result"
    }
   ],
   "source": [
    "model.weight.dtype"
   ]
  },
  {
   "cell_type": "code",
   "execution_count": 100,
   "id": "c63cf11a",
   "metadata": {},
   "outputs": [
    {
     "data": {
      "text/plain": [
       "tensor([[0.2848],\n",
       "        [0.4562],\n",
       "        [0.4956],\n",
       "        ...,\n",
       "        [0.6639],\n",
       "        [0.5920],\n",
       "        [0.2059]], grad_fn=<AddmmBackward0>)"
      ]
     },
     "execution_count": 100,
     "metadata": {},
     "output_type": "execute_result"
    }
   ],
   "source": [
    "# The prediction will still be very poor\n",
    "preds = model(X_train)\n",
    "preds"
   ]
  },
  {
   "cell_type": "code",
   "execution_count": 101,
   "id": "c012031a",
   "metadata": {},
   "outputs": [],
   "source": [
    "# Creating an optimizer \n",
    "optimizer = torch.optim.SGD(model.parameters(), lr= 1e-5)"
   ]
  },
  {
   "cell_type": "code",
   "execution_count": null,
   "id": "eae3b1b6",
   "metadata": {},
   "outputs": [],
   "source": []
  },
  {
   "cell_type": "markdown",
   "id": "b06c75a5",
   "metadata": {},
   "source": [
    "# Train the model"
   ]
  },
  {
   "cell_type": "code",
   "execution_count": 106,
   "id": "dd012d83",
   "metadata": {},
   "outputs": [],
   "source": [
    "def fit(model, epochs, train_dl, optimizer, loss):\n",
    "    # Looping through the number of epoch\n",
    "    for epoch in range(epochs):\n",
    "        for xb, yb in train_dl:\n",
    "            # Generate predictions\n",
    "            pred = model(xb)\n",
    "\n",
    "            # Calculate the loss\n",
    "            loss = loss_fn(pred, yb)\n",
    "            \n",
    "            # compute the gradient values wrt to weights and biases\n",
    "            loss.backward()\n",
    "            \n",
    "            # optimize\n",
    "            optimizer.step()\n",
    "            \n",
    "            # Clear the gradients\n",
    "            optimizer.zero_grad()\n",
    "            \n",
    "        if (epoch + 1) % 10 == 0:\n",
    "            print(f\"[{epoch + 1}/{epochs}], Loss : {loss}\")"
   ]
  },
  {
   "cell_type": "code",
   "execution_count": 108,
   "id": "aa1dc1e4",
   "metadata": {},
   "outputs": [
    {
     "name": "stdout",
     "output_type": "stream",
     "text": [
      "[10/1000], Loss : 2220789.75\n",
      "[20/1000], Loss : 402751872.0\n",
      "[30/1000], Loss : 124801824.0\n",
      "[40/1000], Loss : 69706072.0\n",
      "[50/1000], Loss : 6497395.5\n",
      "[60/1000], Loss : 224958192.0\n",
      "[70/1000], Loss : 27674782.0\n",
      "[80/1000], Loss : 255967552.0\n",
      "[90/1000], Loss : 658821632.0\n",
      "[100/1000], Loss : 295235840.0\n",
      "[110/1000], Loss : 8703383.0\n",
      "[120/1000], Loss : 18144248.0\n",
      "[130/1000], Loss : 151346976.0\n",
      "[140/1000], Loss : 16759432.0\n",
      "[150/1000], Loss : 8902080.0\n",
      "[160/1000], Loss : 17663462.0\n",
      "[170/1000], Loss : 283109472.0\n",
      "[180/1000], Loss : 100088032.0\n",
      "[190/1000], Loss : 27886872.0\n",
      "[200/1000], Loss : 59545648.0\n",
      "[210/1000], Loss : 49159916.0\n",
      "[220/1000], Loss : 855858176.0\n",
      "[230/1000], Loss : 217513472.0\n",
      "[240/1000], Loss : 142852544.0\n",
      "[250/1000], Loss : 267628672.0\n",
      "[260/1000], Loss : 132266144.0\n",
      "[270/1000], Loss : 443822336.0\n",
      "[280/1000], Loss : 197813520.0\n",
      "[290/1000], Loss : 19762182.0\n",
      "[300/1000], Loss : 23134674.0\n",
      "[310/1000], Loss : 120475944.0\n",
      "[320/1000], Loss : 340202208.0\n",
      "[330/1000], Loss : 128370600.0\n",
      "[340/1000], Loss : 121220888.0\n",
      "[350/1000], Loss : 207445328.0\n",
      "[360/1000], Loss : 495986048.0\n",
      "[370/1000], Loss : 118747592.0\n",
      "[380/1000], Loss : 263704128.0\n",
      "[390/1000], Loss : 11521540.0\n",
      "[400/1000], Loss : 43240568.0\n",
      "[410/1000], Loss : 20533106.0\n",
      "[420/1000], Loss : 53770512.0\n",
      "[430/1000], Loss : 203498688.0\n",
      "[440/1000], Loss : 31354474.0\n",
      "[450/1000], Loss : 93719592.0\n",
      "[460/1000], Loss : 32338016.0\n",
      "[470/1000], Loss : 42697716.0\n",
      "[480/1000], Loss : 230838224.0\n",
      "[490/1000], Loss : 11135276.0\n",
      "[500/1000], Loss : 14458041.0\n",
      "[510/1000], Loss : 23724934.0\n",
      "[520/1000], Loss : 23343200.0\n",
      "[530/1000], Loss : 128688256.0\n",
      "[540/1000], Loss : 8022344.5\n",
      "[550/1000], Loss : 65102096.0\n",
      "[560/1000], Loss : 265754064.0\n",
      "[570/1000], Loss : 19804126.0\n",
      "[580/1000], Loss : 48457536.0\n",
      "[590/1000], Loss : 45084780.0\n",
      "[600/1000], Loss : 50133140.0\n",
      "[610/1000], Loss : 28151750.0\n",
      "[620/1000], Loss : 206110160.0\n",
      "[630/1000], Loss : 35379936.0\n",
      "[640/1000], Loss : 135395536.0\n",
      "[650/1000], Loss : 27841824.0\n",
      "[660/1000], Loss : 38557344.0\n",
      "[670/1000], Loss : 19058186.0\n",
      "[680/1000], Loss : 112030720.0\n",
      "[690/1000], Loss : 38934576.0\n",
      "[700/1000], Loss : 150922336.0\n",
      "[710/1000], Loss : 184644288.0\n",
      "[720/1000], Loss : 199210224.0\n",
      "[730/1000], Loss : 142866864.0\n",
      "[740/1000], Loss : 15960208.0\n",
      "[750/1000], Loss : 54495232.0\n",
      "[760/1000], Loss : 54992208.0\n",
      "[770/1000], Loss : 73611488.0\n",
      "[780/1000], Loss : 26297530.0\n",
      "[790/1000], Loss : 150632544.0\n",
      "[800/1000], Loss : 115701288.0\n",
      "[810/1000], Loss : 217411952.0\n",
      "[820/1000], Loss : 30504634.0\n",
      "[830/1000], Loss : 94425688.0\n",
      "[840/1000], Loss : 37460740.0\n",
      "[850/1000], Loss : 50556228.0\n",
      "[860/1000], Loss : 122967176.0\n",
      "[870/1000], Loss : 19336802.0\n",
      "[880/1000], Loss : 14721893.0\n",
      "[890/1000], Loss : 138066416.0\n",
      "[900/1000], Loss : 21012068.0\n",
      "[910/1000], Loss : 93289080.0\n",
      "[920/1000], Loss : 173164976.0\n",
      "[930/1000], Loss : 16437559.0\n",
      "[940/1000], Loss : 27342706.0\n",
      "[950/1000], Loss : 214241744.0\n",
      "[960/1000], Loss : 20117398.0\n",
      "[970/1000], Loss : 21766194.0\n",
      "[980/1000], Loss : 36065276.0\n",
      "[990/1000], Loss : 12425711.0\n",
      "[1000/1000], Loss : 65046204.0\n"
     ]
    }
   ],
   "source": [
    "history = fit(model, 1000, train_dl, optimizer, loss)"
   ]
  },
  {
   "cell_type": "code",
   "execution_count": null,
   "id": "6c17e6dd",
   "metadata": {},
   "outputs": [],
   "source": []
  }
 ],
 "metadata": {
  "kernelspec": {
   "display_name": "Python 3 (ipykernel)",
   "language": "python",
   "name": "python3"
  },
  "language_info": {
   "codemirror_mode": {
    "name": "ipython",
    "version": 3
   },
   "file_extension": ".py",
   "mimetype": "text/x-python",
   "name": "python",
   "nbconvert_exporter": "python",
   "pygments_lexer": "ipython3",
   "version": "3.10.9"
  }
 },
 "nbformat": 4,
 "nbformat_minor": 5
}

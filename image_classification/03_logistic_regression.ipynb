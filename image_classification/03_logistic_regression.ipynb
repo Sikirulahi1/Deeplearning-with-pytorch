{
  "nbformat": 4,
  "nbformat_minor": 0,
  "metadata": {
    "colab": {
      "provenance": []
    },
    "kernelspec": {
      "name": "python3",
      "display_name": "Python 3"
    },
    "language_info": {
      "name": "python"
    }
  },
  "cells": [
    {
      "cell_type": "code",
      "execution_count": 1,
      "metadata": {
        "id": "hXXYl-1JyZc4"
      },
      "outputs": [],
      "source": [
        "import torch\n",
        "import torchvision\n",
        "from torchvision.datasets import MNIST"
      ]
    },
    {
      "cell_type": "code",
      "source": [
        "# Download training dataset\n",
        "dataset = MNIST(root= '/content/drive/MyDrive/Deep Learning/pytorch_zero_to_gans/data', download = True)"
      ],
      "metadata": {
        "id": "1OUJ664k5Bd3"
      },
      "execution_count": 2,
      "outputs": []
    },
    {
      "cell_type": "code",
      "source": [
        "dataset"
      ],
      "metadata": {
        "colab": {
          "base_uri": "https://localhost:8080/"
        },
        "id": "xbP0NsCn5jUe",
        "outputId": "e3597bca-b3f6-431f-9070-10ca3c189156"
      },
      "execution_count": 3,
      "outputs": [
        {
          "output_type": "execute_result",
          "data": {
            "text/plain": [
              "Dataset MNIST\n",
              "    Number of datapoints: 60000\n",
              "    Root location: /content/drive/MyDrive/Deep Learning/pytorch_zero_to_gans/data\n",
              "    Split: Train"
            ]
          },
          "metadata": {},
          "execution_count": 3
        }
      ]
    },
    {
      "cell_type": "code",
      "source": [
        "len(dataset)"
      ],
      "metadata": {
        "colab": {
          "base_uri": "https://localhost:8080/"
        },
        "id": "JoIqZBl26ALo",
        "outputId": "80b4de14-2269-4ebd-8814-f29954fe127e"
      },
      "execution_count": 4,
      "outputs": [
        {
          "output_type": "execute_result",
          "data": {
            "text/plain": [
              "60000"
            ]
          },
          "metadata": {},
          "execution_count": 4
        }
      ]
    },
    {
      "cell_type": "code",
      "source": [
        "test_dataset = MNIST(root = '/content/drive/MyDrive/Deep Learning/pytorch_zero_to_gans/data', train = False)\n",
        "len(test_dataset)"
      ],
      "metadata": {
        "colab": {
          "base_uri": "https://localhost:8080/"
        },
        "id": "RjPmSx626Eeb",
        "outputId": "c4ae037b-bf2a-43cf-dd82-a24d8c589b30"
      },
      "execution_count": 5,
      "outputs": [
        {
          "output_type": "execute_result",
          "data": {
            "text/plain": [
              "10000"
            ]
          },
          "metadata": {},
          "execution_count": 5
        }
      ]
    },
    {
      "cell_type": "markdown",
      "source": [
        "Let's take a look at the sample"
      ],
      "metadata": {
        "id": "rdVUUn9W6zcR"
      }
    },
    {
      "cell_type": "code",
      "source": [
        "dataset[0]"
      ],
      "metadata": {
        "colab": {
          "base_uri": "https://localhost:8080/"
        },
        "id": "1hOt0FbX6mvT",
        "outputId": "4b688dd4-4527-46c1-d2b7-a6faf36a17b2"
      },
      "execution_count": 6,
      "outputs": [
        {
          "output_type": "execute_result",
          "data": {
            "text/plain": [
              "(<PIL.Image.Image image mode=L size=28x28>, 5)"
            ]
          },
          "metadata": {},
          "execution_count": 6
        }
      ]
    },
    {
      "cell_type": "markdown",
      "source": [
        "It's a pair, consisting of a 28x28px image and a label. The image is an object of the class PIL.Image.Image ,\n",
        "which is a part of the Python imaging library Pillow. We can view the image within Jupyter using matplotlib ,\n",
        "the de-facto plotting and graphing library for data science in Python."
      ],
      "metadata": {
        "id": "br1RuFBw7M9D"
      }
    },
    {
      "cell_type": "code",
      "source": [
        "import matplotlib.pyplot as plt\n",
        "%matplotlib inline"
      ],
      "metadata": {
        "id": "-aFokegK6vwP"
      },
      "execution_count": 7,
      "outputs": []
    },
    {
      "cell_type": "code",
      "source": [
        "image, label = dataset[0]\n",
        "plt.imshow(image, cmap = 'gray')\n",
        "print('Label' , label)"
      ],
      "metadata": {
        "colab": {
          "base_uri": "https://localhost:8080/",
          "height": 447
        },
        "id": "A10qf1la7V-i",
        "outputId": "aea5e8db-e00f-44d0-b4f1-c04e1c78e8e3"
      },
      "execution_count": 8,
      "outputs": [
        {
          "output_type": "stream",
          "name": "stdout",
          "text": [
            "Label 5\n"
          ]
        },
        {
          "output_type": "display_data",
          "data": {
            "text/plain": [
              "<Figure size 640x480 with 1 Axes>"
            ],
            "image/png": "[encoded data removed]"
          },
          "metadata": {}
        }
      ]
    },
    {
      "cell_type": "code",
      "source": [
        "image, label = dataset[10]\n",
        "plt.imshow(image, cmap = 'gray')\n",
        "print('Label' , label)"
      ],
      "metadata": {
        "colab": {
          "base_uri": "https://localhost:8080/",
          "height": 447
        },
        "id": "0bLiaeOS7irH",
        "outputId": "c316b3de-714c-4982-9df7-adc24eeffbb0"
      },
      "execution_count": 9,
      "outputs": [
        {
          "output_type": "stream",
          "name": "stdout",
          "text": [
            "Label 3\n"
          ]
        },
        {
          "output_type": "display_data",
          "data": {
            "text/plain": [
              "<Figure size 640x480 with 1 Axes>"
            ],
            "image/png": "[encoded data removed]"
          },
          "metadata": {}
        }
      ]
    },
    {
      "cell_type": "markdown",
      "source": [
        "It's evident that these images are relatively small in size, and recognizing the digits can sometimes be challenging\n",
        "even for the human eye. While it's useful to look at these images, there's just one problem here: PyTorch doesn't\n",
        "know how to work with images. We need to convert the images into tensors. We can do this by specifying a\n",
        "transform while creating our dataset."
      ],
      "metadata": {
        "id": "rxeIdS8h8brh"
      }
    },
    {
      "cell_type": "markdown",
      "source": [
        "# Converting the dataset to tensors"
      ],
      "metadata": {
        "id": "NL9V2flIH8-5"
      }
    },
    {
      "cell_type": "code",
      "source": [
        "import torchvision.transforms as transforms"
      ],
      "metadata": {
        "id": "7amBoIo87yEe"
      },
      "execution_count": 10,
      "outputs": []
    },
    {
      "cell_type": "code",
      "source": [
        "# MNIST dataset (images and labels)\n",
        "dataset = MNIST(root = '/content/drive/MyDrive/Deep Learning/pytorch_zero_to_gans/data',\n",
        "                train = True,\n",
        "                transform= transforms.ToTensor())"
      ],
      "metadata": {
        "id": "rzOl8xgP8pwQ"
      },
      "execution_count": 11,
      "outputs": []
    },
    {
      "cell_type": "code",
      "source": [
        "img_tensor, label = dataset[0]\n",
        "print(img_tensor.shape, label)"
      ],
      "metadata": {
        "colab": {
          "base_uri": "https://localhost:8080/"
        },
        "id": "fV5zyr1o9Iu6",
        "outputId": "ab042345-2c43-460c-f7df-5f5945125975"
      },
      "execution_count": 12,
      "outputs": [
        {
          "output_type": "stream",
          "name": "stdout",
          "text": [
            "torch.Size([1, 28, 28]) 5\n"
          ]
        }
      ]
    },
    {
      "cell_type": "code",
      "source": [
        "print(img_tensor[:, 10:15, 10:15])\n",
        "print(torch.max(img_tensor), torch.min(img_tensor))"
      ],
      "metadata": {
        "colab": {
          "base_uri": "https://localhost:8080/"
        },
        "id": "xdZA9skT9VFr",
        "outputId": "460dd4f5-0d52-48b4-a7e8-c409af9bab5f"
      },
      "execution_count": 13,
      "outputs": [
        {
          "output_type": "stream",
          "name": "stdout",
          "text": [
            "tensor([[[0.0039, 0.6039, 0.9922, 0.3529, 0.0000],\n",
            "         [0.0000, 0.5451, 0.9922, 0.7451, 0.0078],\n",
            "         [0.0000, 0.0431, 0.7451, 0.9922, 0.2745],\n",
            "         [0.0000, 0.0000, 0.1373, 0.9451, 0.8824],\n",
            "         [0.0000, 0.0000, 0.0000, 0.3176, 0.9412]]])\n",
            "tensor(1.) tensor(0.)\n"
          ]
        }
      ]
    },
    {
      "cell_type": "code",
      "source": [
        "# Plot the image by passing in the 28 x 28 matrix\n",
        "plt.imshow(img_tensor[0, 10:15, 10:15], cmap = 'gray')"
      ],
      "metadata": {
        "colab": {
          "base_uri": "https://localhost:8080/",
          "height": 447
        },
        "id": "mYFYciKg-HHU",
        "outputId": "be4004f1-1034-4542-b608-226030a5e0df"
      },
      "execution_count": 14,
      "outputs": [
        {
          "output_type": "execute_result",
          "data": {
            "text/plain": [
              "<matplotlib.image.AxesImage at 0x7a3f910b5450>"
            ]
          },
          "metadata": {},
          "execution_count": 14
        },
        {
          "output_type": "display_data",
          "data": {
            "text/plain": [
              "<Figure size 640x480 with 1 Axes>"
            ],
            "image/png": "[encoded data removed]"
          },
          "metadata": {}
        }
      ]
    },
    {
      "cell_type": "markdown",
      "source": [
        "# Training and Validation Datasets"
      ],
      "metadata": {
        "id": "0Ekb2wTn-9pi"
      }
    },
    {
      "cell_type": "code",
      "source": [
        "from torch.utils.data import random_split, DataLoader\n",
        "\n",
        "train_ds, val_ds = random_split(dataset, [50000, 10000])\n",
        "len(train_ds), len(val_ds)"
      ],
      "metadata": {
        "colab": {
          "base_uri": "https://localhost:8080/"
        },
        "id": "4nIdcsUm-qap",
        "outputId": "e2543a02-304f-475a-ef44-08925da91380"
      },
      "execution_count": 15,
      "outputs": [
        {
          "output_type": "execute_result",
          "data": {
            "text/plain": [
              "(50000, 10000)"
            ]
          },
          "metadata": {},
          "execution_count": 15
        }
      ]
    },
    {
      "cell_type": "markdown",
      "source": [
        "It's essential to choose a random sample for creating a validation set. Training data is often sorted by the target\n",
        "labels, i.e., images of 0s, followed by 1s, followed by 2s, etc. If we create a validation set using the last 20% of\n",
        "images, it would only consist of 8s and 9s. In contrast, the training set would contain no 8s or 9s. Such a training\u0002validation would make it impossible to train a useful model."
      ],
      "metadata": {
        "id": "OacXElpcI519"
      }
    },
    {
      "cell_type": "code",
      "source": [
        "batch_size = 128\n",
        "\n",
        "train_loader = DataLoader(train_ds, batch_size , shuffle = True)\n",
        "val_loader = DataLoader(val_ds, batch_size)"
      ],
      "metadata": {
        "id": "HywrRjeGIW3b"
      },
      "execution_count": 16,
      "outputs": []
    },
    {
      "cell_type": "markdown",
      "source": [
        "# Model\n",
        "\n",
        "Now that we have prepared our data loaders, we can de"
      ],
      "metadata": {
        "id": "ms054CwpKy2E"
      }
    },
    {
      "cell_type": "code",
      "source": [
        "import torch.nn as nn\n",
        "\n",
        "input_size = 28 * 28\n",
        "num_classes = 10\n",
        "\n",
        "# Logistic regression model\n",
        "model = nn.Linear(input_size, num_classes)"
      ],
      "metadata": {
        "id": "2P3APxjJJl9d"
      },
      "execution_count": 17,
      "outputs": []
    },
    {
      "cell_type": "markdown",
      "source": [
        "Let's look at the weights and biases"
      ],
      "metadata": {
        "id": "7nB_9nX6NbUv"
      }
    },
    {
      "cell_type": "code",
      "source": [
        "list(model.parameters())"
      ],
      "metadata": {
        "colab": {
          "base_uri": "https://localhost:8080/"
        },
        "id": "t8ANizoeM6T9",
        "outputId": "5aa2062e-c9de-489e-e758-c365e65f112d"
      },
      "execution_count": 18,
      "outputs": [
        {
          "output_type": "execute_result",
          "data": {
            "text/plain": [
              "[Parameter containing:\n",
              " tensor([[ 0.0148,  0.0273, -0.0223,  ..., -0.0148, -0.0087, -0.0165],\n",
              "         [-0.0013, -0.0329,  0.0288,  ...,  0.0038,  0.0020, -0.0311],\n",
              "         [-0.0189,  0.0176, -0.0228,  ...,  0.0167, -0.0127,  0.0241],\n",
              "         ...,\n",
              "         [ 0.0346,  0.0005,  0.0018,  ...,  0.0210, -0.0349,  0.0242],\n",
              "         [ 0.0075, -0.0048, -0.0008,  ..., -0.0139,  0.0233,  0.0310],\n",
              "         [-0.0353, -0.0066, -0.0213,  ..., -0.0351, -0.0243,  0.0212]],\n",
              "        requires_grad=True),\n",
              " Parameter containing:\n",
              " tensor([-0.0347, -0.0324, -0.0040,  0.0133, -0.0143, -0.0170,  0.0079, -0.0046,\n",
              "         -0.0217, -0.0079], requires_grad=True)]"
            ]
          },
          "metadata": {},
          "execution_count": 18
        }
      ]
    },
    {
      "cell_type": "code",
      "source": [
        "print(model.weight.shape)\n",
        "model.weight"
      ],
      "metadata": {
        "colab": {
          "base_uri": "https://localhost:8080/"
        },
        "id": "yNguNhINNVcv",
        "outputId": "dde2246d-ff89-4eb5-b0ae-515e21e8867c"
      },
      "execution_count": 19,
      "outputs": [
        {
          "output_type": "stream",
          "name": "stdout",
          "text": [
            "torch.Size([10, 784])\n"
          ]
        },
        {
          "output_type": "execute_result",
          "data": {
            "text/plain": [
              "Parameter containing:\n",
              "tensor([[ 0.0148,  0.0273, -0.0223,  ..., -0.0148, -0.0087, -0.0165],\n",
              "        [-0.0013, -0.0329,  0.0288,  ...,  0.0038,  0.0020, -0.0311],\n",
              "        [-0.0189,  0.0176, -0.0228,  ...,  0.0167, -0.0127,  0.0241],\n",
              "        ...,\n",
              "        [ 0.0346,  0.0005,  0.0018,  ...,  0.0210, -0.0349,  0.0242],\n",
              "        [ 0.0075, -0.0048, -0.0008,  ..., -0.0139,  0.0233,  0.0310],\n",
              "        [-0.0353, -0.0066, -0.0213,  ..., -0.0351, -0.0243,  0.0212]],\n",
              "       requires_grad=True)"
            ]
          },
          "metadata": {},
          "execution_count": 19
        }
      ]
    },
    {
      "cell_type": "code",
      "source": [
        "print(model.bias.shape)\n",
        "model.bias"
      ],
      "metadata": {
        "colab": {
          "base_uri": "https://localhost:8080/"
        },
        "id": "U39uetc3Nl5H",
        "outputId": "2d2776e8-b560-4390-c80a-55ebf8d48edd"
      },
      "execution_count": 20,
      "outputs": [
        {
          "output_type": "stream",
          "name": "stdout",
          "text": [
            "torch.Size([10])\n"
          ]
        },
        {
          "output_type": "execute_result",
          "data": {
            "text/plain": [
              "Parameter containing:\n",
              "tensor([-0.0347, -0.0324, -0.0040,  0.0133, -0.0143, -0.0170,  0.0079, -0.0046,\n",
              "        -0.0217, -0.0079], requires_grad=True)"
            ]
          },
          "metadata": {},
          "execution_count": 20
        }
      ]
    },
    {
      "cell_type": "markdown",
      "source": [
        "Although there are a total of 7850 parameters here, conceptually, nothing has changed so far. Let's try and\n",
        "generate some outputs using our model. We'll take the first batch of the 100 images and pass it into our model"
      ],
      "metadata": {
        "id": "uLoBNyjTODgv"
      }
    },
    {
      "cell_type": "code",
      "source": [
        "for images, labels in train_loader:\n",
        "  print(labels)\n",
        "  print(images.shape)\n",
        "  outputs = model(images)\n",
        "  break"
      ],
      "metadata": {
        "colab": {
          "base_uri": "https://localhost:8080/",
          "height": 494
        },
        "id": "A_6QHT8bNyMS",
        "outputId": "80294558-ced2-4190-f184-68ffb69d6302"
      },
      "execution_count": 21,
      "outputs": [
        {
          "output_type": "stream",
          "name": "stdout",
          "text": [
            "tensor([9, 0, 6, 3, 2, 5, 7, 6, 0, 0, 6, 8, 3, 7, 7, 8, 0, 1, 3, 5, 0, 7, 6, 3,\n",
            "        3, 8, 3, 6, 9, 3, 5, 6, 6, 4, 3, 7, 4, 7, 6, 8, 6, 0, 7, 5, 7, 9, 8, 9,\n",
            "        9, 5, 3, 7, 6, 6, 4, 8, 4, 0, 1, 4, 0, 2, 2, 0, 2, 7, 7, 3, 4, 9, 2, 9,\n",
            "        1, 9, 4, 7, 8, 9, 0, 6, 0, 0, 2, 5, 2, 6, 2, 5, 6, 8, 4, 7, 7, 2, 4, 0,\n",
            "        9, 7, 6, 0, 6, 6, 7, 9, 7, 3, 4, 9, 3, 0, 4, 1, 1, 8, 6, 9, 2, 5, 6, 9,\n",
            "        9, 7, 2, 2, 3, 1, 8, 9])\n",
            "torch.Size([128, 1, 28, 28])\n"
          ]
        },
        {
          "output_type": "error",
          "ename": "RuntimeError",
          "evalue": "ignored",
          "traceback": [
            "\u001b[0;31m---------------------------------------------------------------------------\u001b[0m",
            "\u001b[0;31mRuntimeError\u001b[0m                              Traceback (most recent call last)",
            "\u001b[0;32m<ipython-input-21-a8c0fa89d43a>\u001b[0m in \u001b[0;36m<cell line: 1>\u001b[0;34m()\u001b[0m\n\u001b[1;32m      2\u001b[0m   \u001b[0mprint\u001b[0m\u001b[0;34m(\u001b[0m\u001b[0mlabels\u001b[0m\u001b[0;34m)\u001b[0m\u001b[0;34m\u001b[0m\u001b[0;34m\u001b[0m\u001b[0m\n\u001b[1;32m      3\u001b[0m   \u001b[0mprint\u001b[0m\u001b[0;34m(\u001b[0m\u001b[0mimages\u001b[0m\u001b[0;34m.\u001b[0m\u001b[0mshape\u001b[0m\u001b[0;34m)\u001b[0m\u001b[0;34m\u001b[0m\u001b[0;34m\u001b[0m\u001b[0m\n\u001b[0;32m----> 4\u001b[0;31m   \u001b[0moutputs\u001b[0m \u001b[0;34m=\u001b[0m \u001b[0mmodel\u001b[0m\u001b[0;34m(\u001b[0m\u001b[0mimages\u001b[0m\u001b[0;34m)\u001b[0m\u001b[0;34m\u001b[0m\u001b[0;34m\u001b[0m\u001b[0m\n\u001b[0m\u001b[1;32m      5\u001b[0m   \u001b[0;32mbreak\u001b[0m\u001b[0;34m\u001b[0m\u001b[0;34m\u001b[0m\u001b[0m\n",
            "\u001b[0;32m/usr/local/lib/python3.10/dist-packages/torch/nn/modules/module.py\u001b[0m in \u001b[0;36m_call_impl\u001b[0;34m(self, *args, **kwargs)\u001b[0m\n\u001b[1;32m   1499\u001b[0m                 \u001b[0;32mor\u001b[0m \u001b[0m_global_backward_pre_hooks\u001b[0m \u001b[0;32mor\u001b[0m \u001b[0m_global_backward_hooks\u001b[0m\u001b[0;34m\u001b[0m\u001b[0;34m\u001b[0m\u001b[0m\n\u001b[1;32m   1500\u001b[0m                 or _global_forward_hooks or _global_forward_pre_hooks):\n\u001b[0;32m-> 1501\u001b[0;31m             \u001b[0;32mreturn\u001b[0m \u001b[0mforward_call\u001b[0m\u001b[0;34m(\u001b[0m\u001b[0;34m*\u001b[0m\u001b[0margs\u001b[0m\u001b[0;34m,\u001b[0m \u001b[0;34m**\u001b[0m\u001b[0mkwargs\u001b[0m\u001b[0;34m)\u001b[0m\u001b[0;34m\u001b[0m\u001b[0;34m\u001b[0m\u001b[0m\n\u001b[0m\u001b[1;32m   1502\u001b[0m         \u001b[0;31m# Do not call functions when jit is used\u001b[0m\u001b[0;34m\u001b[0m\u001b[0;34m\u001b[0m\u001b[0m\n\u001b[1;32m   1503\u001b[0m         \u001b[0mfull_backward_hooks\u001b[0m\u001b[0;34m,\u001b[0m \u001b[0mnon_full_backward_hooks\u001b[0m \u001b[0;34m=\u001b[0m \u001b[0;34m[\u001b[0m\u001b[0;34m]\u001b[0m\u001b[0;34m,\u001b[0m \u001b[0;34m[\u001b[0m\u001b[0;34m]\u001b[0m\u001b[0;34m\u001b[0m\u001b[0;34m\u001b[0m\u001b[0m\n",
            "\u001b[0;32m/usr/local/lib/python3.10/dist-packages/torch/nn/modules/linear.py\u001b[0m in \u001b[0;36mforward\u001b[0;34m(self, input)\u001b[0m\n\u001b[1;32m    112\u001b[0m \u001b[0;34m\u001b[0m\u001b[0m\n\u001b[1;32m    113\u001b[0m     \u001b[0;32mdef\u001b[0m \u001b[0mforward\u001b[0m\u001b[0;34m(\u001b[0m\u001b[0mself\u001b[0m\u001b[0;34m,\u001b[0m \u001b[0minput\u001b[0m\u001b[0;34m:\u001b[0m \u001b[0mTensor\u001b[0m\u001b[0;34m)\u001b[0m \u001b[0;34m->\u001b[0m \u001b[0mTensor\u001b[0m\u001b[0;34m:\u001b[0m\u001b[0;34m\u001b[0m\u001b[0;34m\u001b[0m\u001b[0m\n\u001b[0;32m--> 114\u001b[0;31m         \u001b[0;32mreturn\u001b[0m \u001b[0mF\u001b[0m\u001b[0;34m.\u001b[0m\u001b[0mlinear\u001b[0m\u001b[0;34m(\u001b[0m\u001b[0minput\u001b[0m\u001b[0;34m,\u001b[0m \u001b[0mself\u001b[0m\u001b[0;34m.\u001b[0m\u001b[0mweight\u001b[0m\u001b[0;34m,\u001b[0m \u001b[0mself\u001b[0m\u001b[0;34m.\u001b[0m\u001b[0mbias\u001b[0m\u001b[0;34m)\u001b[0m\u001b[0;34m\u001b[0m\u001b[0;34m\u001b[0m\u001b[0m\n\u001b[0m\u001b[1;32m    115\u001b[0m \u001b[0;34m\u001b[0m\u001b[0m\n\u001b[1;32m    116\u001b[0m     \u001b[0;32mdef\u001b[0m \u001b[0mextra_repr\u001b[0m\u001b[0;34m(\u001b[0m\u001b[0mself\u001b[0m\u001b[0;34m)\u001b[0m \u001b[0;34m->\u001b[0m \u001b[0mstr\u001b[0m\u001b[0;34m:\u001b[0m\u001b[0;34m\u001b[0m\u001b[0;34m\u001b[0m\u001b[0m\n",
            "\u001b[0;31mRuntimeError\u001b[0m: mat1 and mat2 shapes cannot be multiplied (3584x28 and 784x10)"
          ]
        }
      ]
    },
    {
      "cell_type": "markdown",
      "source": [
        "The code above leads to an error because our input data does not have the right shape. Our images are of the\n",
        "shape 1x28x28, but we need them to be vectors of size 784, i.e., we need to flatten them"
      ],
      "metadata": {
        "id": "mWtni_7cPhNS"
      }
    },
    {
      "cell_type": "code",
      "source": [
        "images.shape"
      ],
      "metadata": {
        "colab": {
          "base_uri": "https://localhost:8080/"
        },
        "id": "Fu0s2BlFOTB3",
        "outputId": "58e75281-b9c1-4b3d-e986-962620a4bc3a"
      },
      "execution_count": 22,
      "outputs": [
        {
          "output_type": "execute_result",
          "data": {
            "text/plain": [
              "torch.Size([128, 1, 28, 28])"
            ]
          },
          "metadata": {},
          "execution_count": 22
        }
      ]
    },
    {
      "cell_type": "code",
      "source": [
        "images.reshape(128, 784).shape"
      ],
      "metadata": {
        "colab": {
          "base_uri": "https://localhost:8080/"
        },
        "id": "e0uIcH1OP7W5",
        "outputId": "27609ae9-87ba-483f-aff2-40e8bccdd9f6"
      },
      "execution_count": 23,
      "outputs": [
        {
          "output_type": "execute_result",
          "data": {
            "text/plain": [
              "torch.Size([128, 784])"
            ]
          },
          "metadata": {},
          "execution_count": 23
        }
      ]
    },
    {
      "cell_type": "markdown",
      "source": [
        "To include this additional functionality within our model, we need to define a custom model, by extending the `nn.Module` class"
      ],
      "metadata": {
        "id": "YPU-viwxQIGg"
      }
    },
    {
      "cell_type": "code",
      "source": [
        "class MnistModel(nn.Module):\n",
        "  def __init__(self):\n",
        "    super().__init__()\n",
        "    self.linear = nn.Linear(input_size, num_classes)\n",
        "\n",
        "\n",
        "  def forward(self, xb):\n",
        "    xb = xb.reshape(-1, 784)\n",
        "    out = self.linear(xb)\n",
        "    return out\n",
        "\n",
        "\n",
        "model = MnistModel()"
      ],
      "metadata": {
        "id": "LP1zG6mGQB9G"
      },
      "execution_count": 24,
      "outputs": []
    },
    {
      "cell_type": "code",
      "source": [
        "print(model.linear.weight.shape, model.linear.bias.shape)\n",
        "list(model.parameters())"
      ],
      "metadata": {
        "colab": {
          "base_uri": "https://localhost:8080/"
        },
        "id": "hjXTJ059UGzR",
        "outputId": "87cbf979-57bd-421b-b4b4-99fdfc8ba3f1"
      },
      "execution_count": 25,
      "outputs": [
        {
          "output_type": "stream",
          "name": "stdout",
          "text": [
            "torch.Size([10, 784]) torch.Size([10])\n"
          ]
        },
        {
          "output_type": "execute_result",
          "data": {
            "text/plain": [
              "[Parameter containing:\n",
              " tensor([[-0.0014, -0.0007,  0.0357,  ..., -0.0349,  0.0146,  0.0185],\n",
              "         [ 0.0020,  0.0349, -0.0150,  ..., -0.0191,  0.0245,  0.0092],\n",
              "         [-0.0249, -0.0169, -0.0193,  ..., -0.0312, -0.0018,  0.0104],\n",
              "         ...,\n",
              "         [ 0.0020, -0.0200, -0.0338,  ...,  0.0231,  0.0238, -0.0257],\n",
              "         [ 0.0289,  0.0265,  0.0040,  ...,  0.0279,  0.0005, -0.0262],\n",
              "         [ 0.0115, -0.0282,  0.0166,  ..., -0.0051,  0.0087,  0.0193]],\n",
              "        requires_grad=True),\n",
              " Parameter containing:\n",
              " tensor([ 0.0205,  0.0164,  0.0035, -0.0136,  0.0030, -0.0022,  0.0024,  0.0070,\n",
              "          0.0055, -0.0266], requires_grad=True)]"
            ]
          },
          "metadata": {},
          "execution_count": 25
        }
      ]
    },
    {
      "cell_type": "markdown",
      "source": [
        "We can use our new custom model in the same way as before. Let's see if it works."
      ],
      "metadata": {
        "id": "fp0nyuLCVea1"
      }
    },
    {
      "cell_type": "code",
      "source": [
        "for images, labels in train_loader:\n",
        "  print('images.shape : ', images.shape)\n",
        "  outputs = model(images)\n",
        "  break\n",
        "\n",
        "print('outputs.shape : ', outputs.shape)\n",
        "print('Sample outputs : \\n', outputs[:2].data)"
      ],
      "metadata": {
        "colab": {
          "base_uri": "https://localhost:8080/"
        },
        "id": "MjcqpuTPUGgx",
        "outputId": "474c1f83-0e7c-4297-a414-77f251000a69"
      },
      "execution_count": 26,
      "outputs": [
        {
          "output_type": "stream",
          "name": "stdout",
          "text": [
            "images.shape :  torch.Size([128, 1, 28, 28])\n",
            "outputs.shape :  torch.Size([128, 10])\n",
            "Sample outputs : \n",
            " tensor([[ 0.0253,  0.2298,  0.1232,  0.2154,  0.2995, -0.1056, -0.2384,  0.0351,\n",
            "          0.0509, -0.0473],\n",
            "        [ 0.0773, -0.0800,  0.0724,  0.1491, -0.0147, -0.0915, -0.0083,  0.1408,\n",
            "          0.0152,  0.1445]])\n"
          ]
        }
      ]
    },
    {
      "cell_type": "code",
      "source": [
        "outputs[0]"
      ],
      "metadata": {
        "colab": {
          "base_uri": "https://localhost:8080/"
        },
        "id": "rM5rAO-_V7fB",
        "outputId": "ca6c24a4-ff32-4c08-c823-0de53b13b33a"
      },
      "execution_count": 27,
      "outputs": [
        {
          "output_type": "execute_result",
          "data": {
            "text/plain": [
              "tensor([ 0.0253,  0.2298,  0.1232,  0.2154,  0.2995, -0.1056, -0.2384,  0.0351,\n",
              "         0.0509, -0.0473], grad_fn=<SelectBackward0>)"
            ]
          },
          "metadata": {},
          "execution_count": 27
        }
      ]
    },
    {
      "cell_type": "code",
      "source": [
        "exps = torch.exp(outputs[0])\n",
        "exps"
      ],
      "metadata": {
        "colab": {
          "base_uri": "https://localhost:8080/"
        },
        "id": "kYhq_3J6WiPZ",
        "outputId": "0ed3a3e3-8175-4239-b8fe-8bfeb51af5f2"
      },
      "execution_count": 28,
      "outputs": [
        {
          "output_type": "execute_result",
          "data": {
            "text/plain": [
              "tensor([1.0256, 1.2584, 1.1312, 1.2403, 1.3492, 0.8998, 0.7879, 1.0358, 1.0522,\n",
              "        0.9538], grad_fn=<ExpBackward0>)"
            ]
          },
          "metadata": {},
          "execution_count": 28
        }
      ]
    },
    {
      "cell_type": "code",
      "source": [
        "probs = exps / torch.sum(exps)\n",
        "probs"
      ],
      "metadata": {
        "colab": {
          "base_uri": "https://localhost:8080/"
        },
        "id": "gj-8-PCjWmI4",
        "outputId": "598a36d3-217a-4b35-ec55-183dc0953ddf"
      },
      "execution_count": 29,
      "outputs": [
        {
          "output_type": "execute_result",
          "data": {
            "text/plain": [
              "tensor([0.0955, 0.1172, 0.1054, 0.1155, 0.1257, 0.0838, 0.0734, 0.0965, 0.0980,\n",
              "        0.0889], grad_fn=<DivBackward0>)"
            ]
          },
          "metadata": {},
          "execution_count": 29
        }
      ]
    },
    {
      "cell_type": "code",
      "source": [
        "torch.sum(probs)"
      ],
      "metadata": {
        "colab": {
          "base_uri": "https://localhost:8080/"
        },
        "id": "7JO-2PMoW-Tr",
        "outputId": "ccaca076-095a-4a99-c178-ba16e8d0f7a2"
      },
      "execution_count": 30,
      "outputs": [
        {
          "output_type": "execute_result",
          "data": {
            "text/plain": [
              "tensor(1.0000, grad_fn=<SumBackward0>)"
            ]
          },
          "metadata": {},
          "execution_count": 30
        }
      ]
    },
    {
      "cell_type": "markdown",
      "source": [
        "# Softmax\n",
        "\n",
        "The softmax function is included in the torch.nn.functional package and requires us to specify a dimension\n",
        "along which the function should be applied"
      ],
      "metadata": {
        "id": "60g3XzTZXnCF"
      }
    },
    {
      "cell_type": "code",
      "source": [
        "import torch.nn.functional as F"
      ],
      "metadata": {
        "id": "GjL2C6BrXD7k"
      },
      "execution_count": 31,
      "outputs": []
    },
    {
      "cell_type": "code",
      "source": [
        "# Apply softmax for each output row\n",
        "probs = F.softmax(outputs, dim = 1)\n",
        "\n",
        "# Look at the sample probabilities\n",
        "print('Sample probabilities: \\n', probs[:2].data)\n",
        "\n",
        "# Add up the probabilities of an output row\n",
        "print(\"Sum: \", torch.sum(probs[0]).item())"
      ],
      "metadata": {
        "colab": {
          "base_uri": "https://localhost:8080/"
        },
        "id": "-jRy4BTtXwIf",
        "outputId": "c57e7e71-9ca0-40ed-bab3-d88310a8fd59"
      },
      "execution_count": 32,
      "outputs": [
        {
          "output_type": "stream",
          "name": "stdout",
          "text": [
            "Sample probabilities: \n",
            " tensor([[0.0955, 0.1172, 0.1054, 0.1155, 0.1257, 0.0838, 0.0734, 0.0965, 0.0980,\n",
            "         0.0889],\n",
            "        [0.1034, 0.0883, 0.1029, 0.1111, 0.0943, 0.0873, 0.0949, 0.1102, 0.0972,\n",
            "         0.1106]])\n",
            "Sum:  0.9999999403953552\n"
          ]
        }
      ]
    },
    {
      "cell_type": "markdown",
      "source": [
        "Finally, we can determine the predicted label for each image by simply choosing the index of the element with the\n",
        "highest probability in each output row. We can do this using `torch.max` , which returns each row's largest\n",
        "element and the corresponding index."
      ],
      "metadata": {
        "id": "DR8_Z2u_Y-SX"
      }
    },
    {
      "cell_type": "code",
      "source": [
        "max_probs, preds = torch.max(probs, dim = 1)\n",
        "print(preds)\n",
        "print(max_probs)"
      ],
      "metadata": {
        "colab": {
          "base_uri": "https://localhost:8080/"
        },
        "id": "eNVc70qyYzXG",
        "outputId": "5565ba12-5e28-4f06-fc43-0d49975014fb"
      },
      "execution_count": 34,
      "outputs": [
        {
          "output_type": "stream",
          "name": "stdout",
          "text": [
            "tensor([4, 3, 1, 4, 3, 4, 4, 4, 2, 2, 2, 4, 3, 2, 0, 4, 0, 2, 3, 2, 3, 2, 1, 0,\n",
            "        2, 4, 3, 4, 3, 0, 1, 4, 4, 7, 5, 7, 3, 1, 3, 4, 0, 0, 8, 4, 9, 7, 2, 4,\n",
            "        2, 4, 4, 2, 4, 7, 0, 9, 0, 4, 2, 7, 4, 2, 4, 4, 2, 0, 2, 2, 4, 2, 2, 8,\n",
            "        2, 4, 3, 4, 2, 1, 7, 2, 4, 4, 9, 0, 2, 1, 4, 3, 4, 5, 3, 8, 2, 0, 2, 7,\n",
            "        3, 4, 2, 4, 5, 4, 5, 3, 4, 0, 2, 1, 0, 4, 4, 4, 4, 2, 2, 2, 3, 9, 7, 0,\n",
            "        4, 9, 2, 4, 4, 4, 7, 0])\n",
            "tensor([0.1257, 0.1111, 0.1225, 0.1243, 0.1213, 0.1267, 0.1172, 0.1392, 0.1172,\n",
            "        0.1201, 0.1401, 0.1424, 0.1174, 0.1192, 0.1289, 0.1325, 0.1403, 0.1165,\n",
            "        0.1178, 0.1262, 0.1303, 0.1206, 0.1305, 0.1313, 0.1190, 0.1387, 0.1269,\n",
            "        0.1252, 0.1283, 0.1267, 0.1229, 0.1574, 0.1225, 0.1248, 0.1294, 0.1334,\n",
            "        0.1291, 0.1137, 0.1177, 0.1194, 0.1258, 0.1239, 0.1227, 0.1337, 0.1236,\n",
            "        0.1186, 0.1196, 0.1191, 0.1307, 0.1367, 0.1204, 0.1239, 0.1370, 0.1251,\n",
            "        0.1107, 0.1153, 0.1553, 0.1257, 0.1344, 0.1349, 0.1224, 0.1241, 0.1442,\n",
            "        0.1369, 0.1377, 0.1281, 0.1191, 0.1288, 0.1340, 0.1194, 0.1267, 0.1249,\n",
            "        0.1285, 0.1210, 0.1171, 0.1234, 0.1288, 0.1244, 0.1270, 0.1212, 0.1216,\n",
            "        0.1417, 0.1181, 0.1275, 0.1242, 0.1290, 0.1339, 0.1127, 0.1359, 0.1328,\n",
            "        0.1336, 0.1416, 0.1172, 0.1443, 0.1259, 0.1232, 0.1315, 0.1421, 0.1229,\n",
            "        0.1348, 0.1169, 0.1339, 0.1232, 0.1218, 0.1268, 0.1405, 0.1382, 0.1227,\n",
            "        0.1342, 0.1222, 0.1476, 0.1115, 0.1420, 0.1312, 0.1176, 0.1457, 0.1399,\n",
            "        0.1385, 0.1353, 0.1300, 0.1293, 0.1094, 0.1219, 0.1295, 0.1285, 0.1397,\n",
            "        0.1223, 0.1180], grad_fn=<MaxBackward0>)\n"
          ]
        }
      ]
    },
    {
      "cell_type": "markdown",
      "source": [
        "Let's compare them with the label"
      ],
      "metadata": {
        "id": "OVWf65BDZiCH"
      }
    },
    {
      "cell_type": "code",
      "source": [
        "labels"
      ],
      "metadata": {
        "colab": {
          "base_uri": "https://localhost:8080/"
        },
        "id": "q3tZxrTcZTx5",
        "outputId": "3099f765-8d54-4434-b798-f7c29b4c8380"
      },
      "execution_count": 35,
      "outputs": [
        {
          "output_type": "execute_result",
          "data": {
            "text/plain": [
              "tensor([2, 4, 6, 9, 4, 8, 9, 0, 2, 9, 4, 9, 0, 5, 1, 9, 3, 9, 8, 9, 8, 1, 0, 3,\n",
              "        7, 4, 9, 0, 8, 3, 4, 8, 8, 2, 2, 7, 0, 7, 6, 5, 1, 2, 8, 5, 0, 8, 7, 3,\n",
              "        4, 3, 5, 1, 0, 5, 3, 4, 4, 4, 6, 3, 4, 1, 2, 7, 8, 1, 5, 7, 8, 1, 1, 8,\n",
              "        3, 4, 0, 0, 2, 4, 4, 1, 4, 8, 9, 1, 5, 9, 3, 4, 3, 6, 6, 3, 1, 8, 1, 7,\n",
              "        0, 8, 8, 7, 1, 6, 3, 0, 7, 1, 7, 0, 1, 0, 3, 8, 0, 9, 4, 2, 8, 8, 7, 1,\n",
              "        4, 4, 4, 6, 8, 5, 1, 5])"
            ]
          },
          "metadata": {},
          "execution_count": 35
        }
      ]
    },
    {
      "cell_type": "markdown",
      "source": [
        "# Evaluation Metric and Loss Function\n",
        "\n",
        "Just as with linear regression, we need a way to evaluate how well our model is performing. A natural way to do\n",
        "this would be to"
      ],
      "metadata": {
        "id": "QX2Fwhg7VaYZ"
      }
    },
    {
      "cell_type": "code",
      "source": [
        "def accuracy(outputs, labels):\n",
        "  _, preds = torch.max(outputs, dim = 1)\n",
        "  return torch.tensor(torch.sum(preds == labels).item() / len(preds))\n"
      ],
      "metadata": {
        "id": "sewaSq4sZlkV"
      },
      "execution_count": 36,
      "outputs": []
    },
    {
      "cell_type": "code",
      "source": [
        "accuracy(outputs, labels)"
      ],
      "metadata": {
        "colab": {
          "base_uri": "https://localhost:8080/"
        },
        "id": "5RhQR5jwWDR4",
        "outputId": "6b67d17f-960a-46f8-cc97-02348ab2f8e1"
      },
      "execution_count": 37,
      "outputs": [
        {
          "output_type": "execute_result",
          "data": {
            "text/plain": [
              "tensor(0.1172)"
            ]
          },
          "metadata": {},
          "execution_count": 37
        }
      ]
    },
    {
      "cell_type": "code",
      "source": [
        "outputs"
      ],
      "metadata": {
        "colab": {
          "base_uri": "https://localhost:8080/"
        },
        "id": "5llMWxE4WHaq",
        "outputId": "2159738b-2488-438a-be41-0f65a453e058"
      },
      "execution_count": 38,
      "outputs": [
        {
          "output_type": "execute_result",
          "data": {
            "text/plain": [
              "tensor([[ 0.0253,  0.2298,  0.1232,  ...,  0.0351,  0.0509, -0.0473],\n",
              "        [ 0.0773, -0.0800,  0.0724,  ...,  0.1408,  0.0152,  0.1445],\n",
              "        [-0.1703,  0.1721,  0.0944,  ..., -0.1441,  0.0065, -0.1468],\n",
              "        ...,\n",
              "        [-0.2141, -0.0231, -0.0838,  ..., -0.0880, -0.0394, -0.0808],\n",
              "        [ 0.2929,  0.0220,  0.1713,  ...,  0.3106,  0.0207,  0.2124],\n",
              "        [ 0.1767, -0.0589,  0.0277,  ..., -0.1132, -0.0567,  0.0964]],\n",
              "       grad_fn=<AddmmBackward0>)"
            ]
          },
          "metadata": {},
          "execution_count": 38
        }
      ]
    },
    {
      "cell_type": "code",
      "source": [
        "loss_fn = F.cross_entropy"
      ],
      "metadata": {
        "id": "pp1qgmPba5cy"
      },
      "execution_count": 39,
      "outputs": []
    },
    {
      "cell_type": "code",
      "source": [
        "# Loss for current batch of data\n",
        "loss = loss_fn(outputs, labels)\n",
        "print(loss)"
      ],
      "metadata": {
        "colab": {
          "base_uri": "https://localhost:8080/"
        },
        "id": "2JO2IQqubKrA",
        "outputId": "6440274e-d019-4fde-f3d7-89f1dfb02c3f"
      },
      "execution_count": 40,
      "outputs": [
        {
          "output_type": "stream",
          "name": "stdout",
          "text": [
            "tensor(2.3136, grad_fn=<NllLossBackward0>)\n"
          ]
        }
      ]
    },
    {
      "cell_type": "markdown",
      "source": [
        "# Training the model"
      ],
      "metadata": {
        "id": "kJRImX-ib8UU"
      }
    },
    {
      "cell_type": "markdown",
      "source": [
        "Here's what it looks like in pseudocode:\n",
        "\n",
        "\n",
        "\n",
        "```\n",
        "for epoch in range(num_epochs):\n",
        "  # Training phase\n",
        "  for batch in train_loader:\n",
        "    # Generate predictions\n",
        "    # Calculate loss\n",
        "    # Compute gradients\n",
        "    # Update weights\n",
        "    # Reset gradients\n",
        "  # Validation phase\n",
        "  for batch in val_loader:\n",
        "    # Generate predictions\n",
        "    # Calculate loss\n",
        "    # Calculate metrics (accuracy etc.)\n",
        "  # Calculate average validation loss & metrics\n",
        "  # Log epoch, loss & metrics for inspection\n",
        "\n",
        "```\n",
        "\n"
      ],
      "metadata": {
        "id": "e1awF2kpdzEQ"
      }
    },
    {
      "cell_type": "code",
      "source": [
        "class MnistModel(nn.Module):\n",
        "  def __init__(self):\n",
        "    super().__init__()\n",
        "    self.linear = nn.Linear(input_size, num_classes)\n",
        "\n",
        "  def forward(self, xb):\n",
        "    xb = xb.reshape(-1, 784)\n",
        "    out = self.linear(xb)\n",
        "    return out\n",
        "\n",
        "  def training_step(self, batch):\n",
        "    images, labels = batch\n",
        "    output = self(images) # Generate predictions\n",
        "    loss = F.cross_entropy(output, labels) # Calculate loss\n",
        "    return loss\n",
        "\n",
        "  def validation_step(self, batch):\n",
        "    images, labels = batch\n",
        "    output = self(images) # Generate prediction\n",
        "    loss = F.cross_entropy(output, labels) # Calculate loss\n",
        "    acc = accuracy(output, labels) # Calculate the accuracy\n",
        "    return {\"val_loss\": loss, \"val_acc\" : acc}\n",
        "\n",
        "  def validation_epoch_end(self, outputs):\n",
        "    batch_loss = [x['val_loss'] for x in outputs]\n",
        "    batch_acc = [x['val_acc'] for x in outputs]\n",
        "    epoch_loss = torch.stack(batch_loss).mean() # Combine losses\n",
        "    epoch_acc = torch.stack(batch_acc).mean() # Combine accuracies\n",
        "    return {'val_loss' : epoch_loss.item(), 'val_acc' : epoch_acc.item()}\n",
        "\n",
        "  def epoch_end(self, epoch, result):\n",
        "    print(f\"Epoch [{epoch}], val_loss : {result['val_loss']:.4f}, val_acc : {result['val_acc']:.4f}\")\n",
        "\n",
        "model = MnistModel()"
      ],
      "metadata": {
        "id": "cCZauxbBbYPd"
      },
      "execution_count": 77,
      "outputs": []
    },
    {
      "cell_type": "code",
      "source": [
        "def evaluate(model, val_loader):\n",
        "  outputs = [model.validation_step(batch) for batch in val_loader]\n",
        "  return model.validation_epoch_end(outputs)\n",
        "\n",
        "def fit(epochs, model, lr, train_loader, val_loader, opt_func = torch.optim.SGD):\n",
        "  optimizer = opt_func(model.parameters(), lr)\n",
        "  history = []\n",
        "\n",
        "  for epoch in range(epochs):\n",
        "\n",
        "    # Training\n",
        "    for batch in train_loader:\n",
        "      loss = model.training_step(batch) # Generate prediction and calculating the loss\n",
        "      loss.backward() # Find the gradient\n",
        "      optimizer.step() # Update the step by optimizing\n",
        "      optimizer.zero_grad() # Clear the output\n",
        "\n",
        "    # Validation\n",
        "    result = evaluate(model, val_loader)\n",
        "    model.epoch_end(epoch, result)\n",
        "    history.append(result)\n",
        "\n",
        "  return history\n"
      ],
      "metadata": {
        "id": "ZjnJuf9tmjEK"
      },
      "execution_count": 78,
      "outputs": []
    },
    {
      "cell_type": "code",
      "source": [
        "result0 = evaluate(model, val_loader)\n",
        "result0"
      ],
      "metadata": {
        "colab": {
          "base_uri": "https://localhost:8080/"
        },
        "id": "m8b0QMbt1dJt",
        "outputId": "6ce572d1-4089-442a-c245-bc61468e283e"
      },
      "execution_count": 79,
      "outputs": [
        {
          "output_type": "execute_result",
          "data": {
            "text/plain": [
              "{'val_loss': 2.3404901027679443, 'val_acc': 0.04064477980136871}"
            ]
          },
          "metadata": {},
          "execution_count": 79
        }
      ]
    },
    {
      "cell_type": "code",
      "source": [
        "history1 = fit(5, model, 0.001, train_loader, val_loader)"
      ],
      "metadata": {
        "colab": {
          "base_uri": "https://localhost:8080/"
        },
        "id": "tcLBH3Zmu07d",
        "outputId": "6e0f9fc1-d395-43fe-ea32-abac4e38a4d5"
      },
      "execution_count": 80,
      "outputs": [
        {
          "output_type": "stream",
          "name": "stdout",
          "text": [
            "Epoch [0], val_loss : 1.9707, val_acc : 0.5876\n",
            "Epoch [1], val_loss : 1.6971, val_acc : 0.7169\n",
            "Epoch [2], val_loss : 1.4925, val_acc : 0.7548\n",
            "Epoch [3], val_loss : 1.3383, val_acc : 0.7754\n",
            "Epoch [4], val_loss : 1.2200, val_acc : 0.7889\n"
          ]
        }
      ]
    },
    {
      "cell_type": "code",
      "source": [
        "history2 = fit(5, model, 0.001, train_loader, val_loader)"
      ],
      "metadata": {
        "colab": {
          "base_uri": "https://localhost:8080/"
        },
        "id": "p0xiPM_Dviz4",
        "outputId": "20229c08-1aab-486b-e5ea-4706695b58a9"
      },
      "execution_count": 81,
      "outputs": [
        {
          "output_type": "stream",
          "name": "stdout",
          "text": [
            "Epoch [0], val_loss : 1.1271, val_acc : 0.8014\n",
            "Epoch [1], val_loss : 1.0528, val_acc : 0.8098\n",
            "Epoch [2], val_loss : 0.9921, val_acc : 0.8137\n",
            "Epoch [3], val_loss : 0.9415, val_acc : 0.8181\n",
            "Epoch [4], val_loss : 0.8989, val_acc : 0.8234\n"
          ]
        }
      ]
    },
    {
      "cell_type": "code",
      "source": [
        "history3 = fit(5, model, 0.001, train_loader, val_loader)"
      ],
      "metadata": {
        "colab": {
          "base_uri": "https://localhost:8080/"
        },
        "id": "8gDtI7YC1VDB",
        "outputId": "51e46b66-030e-4578-f73e-89f90ffeffae"
      },
      "execution_count": 82,
      "outputs": [
        {
          "output_type": "stream",
          "name": "stdout",
          "text": [
            "Epoch [0], val_loss : 0.8624, val_acc : 0.8276\n",
            "Epoch [1], val_loss : 0.8307, val_acc : 0.8331\n",
            "Epoch [2], val_loss : 0.8030, val_acc : 0.8358\n",
            "Epoch [3], val_loss : 0.7786, val_acc : 0.8383\n",
            "Epoch [4], val_loss : 0.7569, val_acc : 0.8414\n"
          ]
        }
      ]
    },
    {
      "cell_type": "code",
      "source": [
        "history4 = fit(5, model, 0.001, train_loader, val_loader)"
      ],
      "metadata": {
        "colab": {
          "base_uri": "https://localhost:8080/"
        },
        "id": "lyiMAiTe2p05",
        "outputId": "974b19e4-1606-4048-9ae2-605d146acebb"
      },
      "execution_count": 83,
      "outputs": [
        {
          "output_type": "stream",
          "name": "stdout",
          "text": [
            "Epoch [0], val_loss : 0.7373, val_acc : 0.8449\n",
            "Epoch [1], val_loss : 0.7196, val_acc : 0.8468\n",
            "Epoch [2], val_loss : 0.7037, val_acc : 0.8493\n",
            "Epoch [3], val_loss : 0.6891, val_acc : 0.8510\n",
            "Epoch [4], val_loss : 0.6757, val_acc : 0.8527\n"
          ]
        }
      ]
    },
    {
      "cell_type": "code",
      "source": [
        "result0 = evaluate(model, val_loader)\n",
        "result0"
      ],
      "metadata": {
        "colab": {
          "base_uri": "https://localhost:8080/"
        },
        "id": "1cNopb4u2rQz",
        "outputId": "ecd10971-72e8-4c8a-c853-f7648a26a5d7"
      },
      "execution_count": 87,
      "outputs": [
        {
          "output_type": "execute_result",
          "data": {
            "text/plain": [
              "{'val_loss': 0.6757445335388184, 'val_acc': 0.852749228477478}"
            ]
          },
          "metadata": {},
          "execution_count": 87
        }
      ]
    },
    {
      "cell_type": "code",
      "source": [
        "history = [result0] + history1 + history2 + history3 + history4\n",
        "accuracies = [result['val_acc'] for result in history]\n",
        "plt.plot(accuracies, '-x')\n",
        "plt.xlabel('epoch')\n",
        "plt.ylabel('accuracy')\n",
        "plt.title('Accuracy vs. No. of epochs');"
      ],
      "metadata": {
        "colab": {
          "base_uri": "https://localhost:8080/",
          "height": 472
        },
        "id": "2G9jlykg3tkz",
        "outputId": "cdb99a7e-a4a8-4512-cfb7-594d52df0d91"
      },
      "execution_count": 86,
      "outputs": [
        {
          "output_type": "display_data",
          "data": {
            "text/plain": [
              "<Figure size 640x480 with 1 Axes>"
            ],
            "image/png": "[encoded data removed]"
          },
          "metadata": {}
        }
      ]
    },
    {
      "cell_type": "markdown",
      "source": [
        "# Testing with individual images"
      ],
      "metadata": {
        "id": "6siyygEL4H7T"
      }
    },
    {
      "cell_type": "code",
      "source": [
        "# Define test dataset\n",
        "test_dataset = MNIST(root = '/content/drive/MyDrive/Deep Learning/pytorch_zero_to_gans/data',\n",
        "                train = False,\n",
        "                transform= transforms.ToTensor())"
      ],
      "metadata": {
        "id": "b6AMDJ1232nJ"
      },
      "execution_count": 88,
      "outputs": []
    },
    {
      "cell_type": "code",
      "source": [
        "img, label = test_dataset[0]\n",
        "plt.imshow(img[0], cmap = 'gray')\n",
        "print('Shape:', img.shape)\n",
        "print('label:', label)"
      ],
      "metadata": {
        "colab": {
          "base_uri": "https://localhost:8080/",
          "height": 465
        },
        "id": "tQGy_VkD4guC",
        "outputId": "c10aab46-a835-420d-d4da-dda56416c20f"
      },
      "execution_count": 92,
      "outputs": [
        {
          "output_type": "stream",
          "name": "stdout",
          "text": [
            "Shape: torch.Size([1, 28, 28])\n",
            "label: 7\n"
          ]
        },
        {
          "output_type": "display_data",
          "data": {
            "text/plain": [
              "<Figure size 640x480 with 1 Axes>"
            ],
            "image/png": "[encoded data removed]"
          },
          "metadata": {}
        }
      ]
    },
    {
      "cell_type": "code",
      "source": [
        "img.unsqueeze(0).shape"
      ],
      "metadata": {
        "colab": {
          "base_uri": "https://localhost:8080/"
        },
        "id": "1M5mU-ov4xEG",
        "outputId": "6b1ce10a-f065-47b9-e139-ac844f9d04ce"
      },
      "execution_count": 93,
      "outputs": [
        {
          "output_type": "execute_result",
          "data": {
            "text/plain": [
              "torch.Size([1, 1, 28, 28])"
            ]
          },
          "metadata": {},
          "execution_count": 93
        }
      ]
    },
    {
      "cell_type": "code",
      "source": [
        "def predict_image(img, model):\n",
        "  xb = img.unsqueeze(0)\n",
        "  yb = model(xb)\n",
        "\n",
        "  _, preds = torch.max(yb, dim = 1)\n",
        "  return preds[0].item()"
      ],
      "metadata": {
        "id": "Yrv_DxTR5Hvv"
      },
      "execution_count": 94,
      "outputs": []
    },
    {
      "cell_type": "code",
      "source": [
        "img, label = test_dataset[0]\n",
        "plt.imshow(img[0], cmap = 'gray')\n",
        "print('Label:', label, 'Predicted:', predict_image(img, model))"
      ],
      "metadata": {
        "colab": {
          "base_uri": "https://localhost:8080/",
          "height": 447
        },
        "id": "Em1j9BGd5aEN",
        "outputId": "5d7c5e90-48a7-46f3-9894-41f62fc81e2a"
      },
      "execution_count": 96,
      "outputs": [
        {
          "output_type": "stream",
          "name": "stdout",
          "text": [
            "Label: 7 Predicted: 7\n"
          ]
        },
        {
          "output_type": "display_data",
          "data": {
            "text/plain": [
              "<Figure size 640x480 with 1 Axes>"
            ],
            "image/png": "[encoded data removed]"
          },
          "metadata": {}
        }
      ]
    },
    {
      "cell_type": "code",
      "source": [
        "img, label = test_dataset[10]\n",
        "plt.imshow(img[0], cmap = 'gray')\n",
        "print('Label:', label, 'Predicted:', predict_image(img, model))"
      ],
      "metadata": {
        "colab": {
          "base_uri": "https://localhost:8080/",
          "height": 447
        },
        "id": "Wh9O6nYZ50_Y",
        "outputId": "77d0233a-0b77-41bf-b317-ca9d67157064"
      },
      "execution_count": 97,
      "outputs": [
        {
          "output_type": "stream",
          "name": "stdout",
          "text": [
            "Label: 0 Predicted: 0\n"
          ]
        },
        {
          "output_type": "display_data",
          "data": {
            "text/plain": [
              "<Figure size 640x480 with 1 Axes>"
            ],
            "image/png": "[encoded data removed]"
          },
          "metadata": {}
        }
      ]
    },
    {
      "cell_type": "code",
      "source": [
        "img, label = test_dataset[193]\n",
        "plt.imshow(img[0], cmap = 'gray')\n",
        "print('Label:', label, 'Predicted:', predict_image(img, model))"
      ],
      "metadata": {
        "colab": {
          "base_uri": "https://localhost:8080/",
          "height": 447
        },
        "id": "nKgFrPNE58Bc",
        "outputId": "141dbf51-3fac-43d7-c9fb-f982e4f3b744"
      },
      "execution_count": 98,
      "outputs": [
        {
          "output_type": "stream",
          "name": "stdout",
          "text": [
            "Label: 9 Predicted: 9\n"
          ]
        },
        {
          "output_type": "display_data",
          "data": {
            "text/plain": [
              "<Figure size 640x480 with 1 Axes>"
            ],
            "image/png": "[encoded data removed]"
          },
          "metadata": {}
        }
      ]
    },
    {
      "cell_type": "code",
      "source": [
        "img, label = test_dataset[1839]\n",
        "plt.imshow(img[0], cmap = 'gray')\n",
        "print('Label:', label, 'Predicted:', predict_image(img, model))"
      ],
      "metadata": {
        "colab": {
          "base_uri": "https://localhost:8080/",
          "height": 447
        },
        "id": "efvnCjMY6AD-",
        "outputId": "15281f42-6b00-4d3b-fab4-937ce1252c0c"
      },
      "execution_count": 99,
      "outputs": [
        {
          "output_type": "stream",
          "name": "stdout",
          "text": [
            "Label: 2 Predicted: 8\n"
          ]
        },
        {
          "output_type": "display_data",
          "data": {
            "text/plain": [
              "<Figure size 640x480 with 1 Axes>"
            ],
            "image/png": "[encoded data removed]"
          },
          "metadata": {}
        }
      ]
    },
    {
      "cell_type": "code",
      "source": [
        "test_loader = DataLoader(test_dataset, batch_size = 256)\n",
        "result = evaluate(model, test_loader)\n",
        "result"
      ],
      "metadata": {
        "colab": {
          "base_uri": "https://localhost:8080/"
        },
        "id": "X3ZEOqd06F8I",
        "outputId": "9b804c71-ac31-478f-e42b-910e1b838d84"
      },
      "execution_count": 100,
      "outputs": [
        {
          "output_type": "execute_result",
          "data": {
            "text/plain": [
              "{'val_loss': 0.6414044499397278, 'val_acc': 0.8592773675918579}"
            ]
          },
          "metadata": {},
          "execution_count": 100
        }
      ]
    },
    {
      "cell_type": "markdown",
      "source": [
        "# Saving and loading the model"
      ],
      "metadata": {
        "id": "o2besMGs6z94"
      }
    },
    {
      "cell_type": "code",
      "source": [
        "model.state_dict()"
      ],
      "metadata": {
        "colab": {
          "base_uri": "https://localhost:8080/"
        },
        "id": "dS5j6oNS7KmQ",
        "outputId": "29720e8a-1051-4f69-b1ab-2b70837fb919"
      },
      "execution_count": 102,
      "outputs": [
        {
          "output_type": "execute_result",
          "data": {
            "text/plain": [
              "OrderedDict([('linear.weight',\n",
              "              tensor([[-0.0005, -0.0189,  0.0306,  ...,  0.0046,  0.0338,  0.0331],\n",
              "                      [ 0.0249, -0.0130, -0.0222,  ..., -0.0091,  0.0105, -0.0196],\n",
              "                      [-0.0077, -0.0291, -0.0349,  ...,  0.0177, -0.0278,  0.0271],\n",
              "                      ...,\n",
              "                      [ 0.0025,  0.0006,  0.0274,  ...,  0.0072,  0.0347, -0.0003],\n",
              "                      [ 0.0002,  0.0288,  0.0193,  ...,  0.0003, -0.0314,  0.0116],\n",
              "                      [ 0.0185, -0.0166,  0.0220,  ...,  0.0310,  0.0044, -0.0210]])),\n",
              "             ('linear.bias',\n",
              "              tensor([-0.0630,  0.0882, -0.0071, -0.0469,  0.0018,  0.0492, -0.0118,  0.0141,\n",
              "                      -0.1182, -0.0443]))])"
            ]
          },
          "metadata": {},
          "execution_count": 102
        }
      ]
    },
    {
      "cell_type": "code",
      "source": [
        "torch.save(model.state_dict(), 'mnist-logistic.pth')"
      ],
      "metadata": {
        "id": "9RjS89u36zby"
      },
      "execution_count": 103,
      "outputs": []
    },
    {
      "cell_type": "code",
      "source": [
        "model2 = MnistModel() # You first instantiate the model\n",
        "model2.load_state_dict(torch.load('mnist-logistic.pth')) # Then you load it\n",
        "model2.state_dict()"
      ],
      "metadata": {
        "colab": {
          "base_uri": "https://localhost:8080/"
        },
        "id": "o5Y3QDam7ElZ",
        "outputId": "1eaac699-ea1b-452a-9d0f-9461b33f3a92"
      },
      "execution_count": 105,
      "outputs": [
        {
          "output_type": "execute_result",
          "data": {
            "text/plain": [
              "OrderedDict([('linear.weight',\n",
              "              tensor([[-0.0005, -0.0189,  0.0306,  ...,  0.0046,  0.0338,  0.0331],\n",
              "                      [ 0.0249, -0.0130, -0.0222,  ..., -0.0091,  0.0105, -0.0196],\n",
              "                      [-0.0077, -0.0291, -0.0349,  ...,  0.0177, -0.0278,  0.0271],\n",
              "                      ...,\n",
              "                      [ 0.0025,  0.0006,  0.0274,  ...,  0.0072,  0.0347, -0.0003],\n",
              "                      [ 0.0002,  0.0288,  0.0193,  ...,  0.0003, -0.0314,  0.0116],\n",
              "                      [ 0.0185, -0.0166,  0.0220,  ...,  0.0310,  0.0044, -0.0210]])),\n",
              "             ('linear.bias',\n",
              "              tensor([-0.0630,  0.0882, -0.0071, -0.0469,  0.0018,  0.0492, -0.0118,  0.0141,\n",
              "                      -0.1182, -0.0443]))])"
            ]
          },
          "metadata": {},
          "execution_count": 105
        }
      ]
    },
    {
      "cell_type": "code",
      "source": [
        "test_loader = DataLoader(test_dataset, batch_size = 256)\n",
        "result = evaluate(model2, test_loader)\n",
        "result"
      ],
      "metadata": {
        "colab": {
          "base_uri": "https://localhost:8080/"
        },
        "id": "h5ujRsZ17JNd",
        "outputId": "e9a7f14f-57d8-4b13-8ffe-bdd51873c639"
      },
      "execution_count": 106,
      "outputs": [
        {
          "output_type": "execute_result",
          "data": {
            "text/plain": [
              "{'val_loss': 0.6414044499397278, 'val_acc': 0.8592773675918579}"
            ]
          },
          "metadata": {},
          "execution_count": 106
        }
      ]
    },
    {
      "cell_type": "code",
      "source": [],
      "metadata": {
        "id": "icYHuy4s76r_"
      },
      "execution_count": null,
      "outputs": []
    }
  ]
}
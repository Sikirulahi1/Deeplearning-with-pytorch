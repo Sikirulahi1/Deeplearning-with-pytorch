{
 "cells": [
  {
   "cell_type": "code",
   "execution_count": 1,
   "id": "a28e3fb7",
   "metadata": {},
   "outputs": [],
   "source": [
    "import torch"
   ]
  },
  {
   "cell_type": "markdown",
   "id": "6fe8930f",
   "metadata": {},
   "source": [
    "We'll create\n",
    "a model that predicts crop yields for apples and oranges (target variables) by looking at the average temperature,\n",
    "rainfall, and humidity (input variables or features) in a region\n",
    "\n"
   ]
  },
  {
   "cell_type": "markdown",
   "id": "fef246f4",
   "metadata": {},
   "source": [
    "# Training"
   ]
  },
  {
   "cell_type": "code",
   "execution_count": 2,
   "id": "6163ff21",
   "metadata": {},
   "outputs": [],
   "source": [
    "import numpy as np\n",
    "import torch"
   ]
  },
  {
   "cell_type": "markdown",
   "id": "24c4ed4d",
   "metadata": {},
   "source": [
    "# Training Data\n",
    "The training data can be represented using 2 matrices: `inputs` and `targets`, each with one row per observation, and one column per veriable"
   ]
  },
  {
   "cell_type": "code",
   "execution_count": 3,
   "id": "a9953a85",
   "metadata": {},
   "outputs": [],
   "source": [
    "# Input (temp, rainfall, humidity)\n",
    "inputs = np.array([[73, 67, 43],\n",
    "                    [91, 88, 64],\n",
    "                    [87, 134, 58],\n",
    "                    [102, 43, 37],\n",
    "                    [69, 96, 70]], dtype='float32')"
   ]
  },
  {
   "cell_type": "code",
   "execution_count": 4,
   "id": "97a3dee6",
   "metadata": {},
   "outputs": [],
   "source": [
    "# Targets (apples, oranges)\n",
    "\n",
    "targets = np.array([[56, 70],\n",
    "                   [81, 101],\n",
    "                   [119, 133],\n",
    "                   [22, 37],\n",
    "                   [103, 119]], dtype = 'float32')"
   ]
  },
  {
   "cell_type": "code",
   "execution_count": 5,
   "id": "987551ef",
   "metadata": {},
   "outputs": [
    {
     "data": {
      "text/plain": [
       "array([[ 73.,  67.,  43.],\n",
       "       [ 91.,  88.,  64.],\n",
       "       [ 87., 134.,  58.],\n",
       "       [102.,  43.,  37.],\n",
       "       [ 69.,  96.,  70.]], dtype=float32)"
      ]
     },
     "execution_count": 5,
     "metadata": {},
     "output_type": "execute_result"
    }
   ],
   "source": [
    "inputs"
   ]
  },
  {
   "cell_type": "code",
   "execution_count": 7,
   "id": "455df967",
   "metadata": {},
   "outputs": [
    {
     "data": {
      "text/plain": [
       "array([[ 56.,  70.],\n",
       "       [ 81., 101.],\n",
       "       [119., 133.],\n",
       "       [ 22.,  37.],\n",
       "       [103., 119.]], dtype=float32)"
      ]
     },
     "execution_count": 7,
     "metadata": {},
     "output_type": "execute_result"
    }
   ],
   "source": [
    "targets"
   ]
  },
  {
   "cell_type": "code",
   "execution_count": 8,
   "id": "2a01aedd",
   "metadata": {},
   "outputs": [
    {
     "name": "stdout",
     "output_type": "stream",
     "text": [
      "tensor([[ 73.,  67.,  43.],\n",
      "        [ 91.,  88.,  64.],\n",
      "        [ 87., 134.,  58.],\n",
      "        [102.,  43.,  37.],\n",
      "        [ 69.,  96.,  70.]])\n",
      "tensor([[ 56.,  70.],\n",
      "        [ 81., 101.],\n",
      "        [119., 133.],\n",
      "        [ 22.,  37.],\n",
      "        [103., 119.]])\n"
     ]
    }
   ],
   "source": [
    "# Convert inputs and targets to tensors\n",
    "inputs = torch.from_numpy(inputs)\n",
    "targets = torch.from_numpy(targets)\n",
    "\n",
    "print(inputs)\n",
    "print(targets)"
   ]
  },
  {
   "cell_type": "markdown",
   "id": "695fe77f",
   "metadata": {},
   "source": [
    "# Linear regression model fron scratch\n",
    "\n",
    "The weights and the biases can also be represented as matrices initialized as random variables\n",
    "we will start with random weights\n",
    "- for the weights, we create  2 rows , 3 columns as seen so that they could be multiplied with the respective inputs\n",
    "- we will also create random bias"
   ]
  },
  {
   "cell_type": "code",
   "execution_count": 38,
   "id": "ca944597",
   "metadata": {},
   "outputs": [
    {
     "name": "stdout",
     "output_type": "stream",
     "text": [
      "tensor([[ 0.3331,  1.3555,  0.9108],\n",
      "        [-1.3847,  0.5854, -0.9380]], requires_grad=True)\n",
      "tensor([ 1.6694, -0.6855], requires_grad=True)\n"
     ]
    }
   ],
   "source": [
    "# Weights abd biases\n",
    "w = torch.randn(2, 3, requires_grad = True)\n",
    "b = torch.randn(2, requires_grad = True)\n",
    "\n",
    "print(w)\n",
    "print(b)"
   ]
  },
  {
   "cell_type": "markdown",
   "id": "50a54487",
   "metadata": {},
   "source": [
    "torch.randn creates a tensor with the given shape, with elements picked randomly from a normal distribution\n",
    "with mean 0 and standard deviation 1.\n",
    "Our model is simply a function that performs a matrix multiplication of the inputs and the weights w\n",
    "(transposed) and adds the bias b (replicated for each observation)"
   ]
  },
  {
   "cell_type": "markdown",
   "id": "48c7c628",
   "metadata": {},
   "source": [
    "We can define the model as follows"
   ]
  },
  {
   "cell_type": "code",
   "execution_count": 39,
   "id": "05cc8a55",
   "metadata": {},
   "outputs": [],
   "source": [
    "def model(x):\n",
    "    return x @ w.t() + b"
   ]
  },
  {
   "cell_type": "markdown",
   "id": "1f704d3b",
   "metadata": {},
   "source": [
    "@ represents matrix multiplication in PyTorch, and the .t method returns the transpose of a tensor."
   ]
  },
  {
   "cell_type": "code",
   "execution_count": 40,
   "id": "a506e916",
   "metadata": {},
   "outputs": [
    {
     "name": "stdout",
     "output_type": "stream",
     "text": [
      "tensor([[ 155.9711, -102.8800],\n",
      "        [ 209.5597, -135.2092],\n",
      "        [ 265.1173,  -97.1119],\n",
      "        [ 127.6338, -151.4588],\n",
      "        [ 218.5402, -105.6904]], grad_fn=<AddBackward0>)\n"
     ]
    }
   ],
   "source": [
    "# Generate predictions\n",
    "preds = model(inputs)\n",
    "print(preds)"
   ]
  },
  {
   "cell_type": "code",
   "execution_count": 41,
   "id": "688e1c9f",
   "metadata": {},
   "outputs": [
    {
     "name": "stdout",
     "output_type": "stream",
     "text": [
      "tensor([[ 56.,  70.],\n",
      "        [ 81., 101.],\n",
      "        [119., 133.],\n",
      "        [ 22.,  37.],\n",
      "        [103., 119.]])\n"
     ]
    }
   ],
   "source": [
    "# Compare with targets\n",
    "print(targets)"
   ]
  },
  {
   "cell_type": "markdown",
   "id": "2c95c2d0",
   "metadata": {},
   "source": [
    "# Loss Function\n",
    "- Calculate the difference between the two matrices (preds and targets).\n",
    "- Square all elements of the difference matrix to remove negative values.\n",
    "- Calculate the average of the elements in the resulting matrix.\n",
    "- The result is a single number, known as the *mean squared error* (MSE)."
   ]
  },
  {
   "cell_type": "code",
   "execution_count": 42,
   "id": "82ed523b",
   "metadata": {},
   "outputs": [
    {
     "name": "stdout",
     "output_type": "stream",
     "text": [
      "10\n",
      "tensor(29701.6367, grad_fn=<DivBackward0>)\n"
     ]
    }
   ],
   "source": [
    "# Calculate the differences btw two matrices\n",
    "diff = preds - targets\n",
    "# Square and find the average to get the MSE\n",
    "MSE = torch.sum(diff * diff)/diff.numel()\n",
    "print(diff.numel())\n",
    "print(MSE)"
   ]
  },
  {
   "cell_type": "code",
   "execution_count": 43,
   "id": "e892d756",
   "metadata": {},
   "outputs": [],
   "source": [
    "# MSE loss\n",
    "def mse(t1, t2):\n",
    "    diff = t1 - t2\n",
    "    return torch.sum(diff * diff)/diff.numel()"
   ]
  },
  {
   "cell_type": "markdown",
   "id": "b46f500a",
   "metadata": {},
   "source": [
    "- The `torch.sum` returns the sum of all the elements in a tensor\n",
    "- The `.numel` method returns the number of elements in the tensor"
   ]
  },
  {
   "cell_type": "code",
   "execution_count": 44,
   "id": "7d7a9cca",
   "metadata": {},
   "outputs": [
    {
     "name": "stdout",
     "output_type": "stream",
     "text": [
      "tensor(29701.6367, grad_fn=<DivBackward0>)\n"
     ]
    }
   ],
   "source": [
    "# Compute the loss\n",
    "loss = mse(preds, targets)\n",
    "print(loss)"
   ]
  },
  {
   "cell_type": "markdown",
   "id": "077c5f2d",
   "metadata": {},
   "source": [
    "# Compute gradients\n",
    "\n",
    "with pytorch, we can automatically compute the gradients or derivative of the loss wrt to the weights and biasis, because they have `request_grad` set to `True`"
   ]
  },
  {
   "cell_type": "code",
   "execution_count": 45,
   "id": "8dca6424",
   "metadata": {},
   "outputs": [],
   "source": [
    "# compute gradient\n",
    "loss.backward()"
   ]
  },
  {
   "cell_type": "code",
   "execution_count": 46,
   "id": "3cdc099a",
   "metadata": {},
   "outputs": [
    {
     "name": "stdout",
     "output_type": "stream",
     "text": [
      "tensor([[ 0.3331,  1.3555,  0.9108],\n",
      "        [-1.3847,  0.5854, -0.9380]], requires_grad=True)\n",
      "tensor([[ 10091.1895,  10645.0312,   6599.5298],\n",
      "        [-17772.2891, -18575.6758, -11719.8047]])\n"
     ]
    }
   ],
   "source": [
    "# Gradients for weights\n",
    "print(w)\n",
    "print(w.grad)"
   ]
  },
  {
   "cell_type": "markdown",
   "id": "03eb5bae",
   "metadata": {},
   "source": [
    "# Adjust weights and biases to reduce the loss"
   ]
  },
  {
   "cell_type": "code",
   "execution_count": 53,
   "id": "fe931d2f",
   "metadata": {},
   "outputs": [
    {
     "name": "stdout",
     "output_type": "stream",
     "text": [
      "tensor([[0., 0., 0.],\n",
      "        [0., 0., 0.]])\n",
      "tensor([0., 0.])\n"
     ]
    }
   ],
   "source": [
    "w.grad.zero_()\n",
    "b.grad.zero_()\n",
    "print(w.grad)\n",
    "print(b.grad)"
   ]
  },
  {
   "cell_type": "markdown",
   "id": "8bfafbad",
   "metadata": {},
   "source": [
    "# Adjust the weights and biases using gradient descent\n",
    "As seen above, we reduce the loss and improve our model using the gradient descent optimization algorithm.\n",
    "Thus, we can train the model using the following steps:\n",
    "1. Generate predictions\n",
    "2. Calculate the loss\n",
    "3. Compute gradients w.r.t the weights and biases\n",
    "4. Adjust the weights by subtracting a small quantity proportional to the gradient\n",
    "5. Reset the gradients to zero"
   ]
  },
  {
   "cell_type": "code",
   "execution_count": 54,
   "id": "5fa86111",
   "metadata": {},
   "outputs": [
    {
     "name": "stdout",
     "output_type": "stream",
     "text": [
      "tensor([[ 155.9711, -102.8800],\n",
      "        [ 209.5597, -135.2092],\n",
      "        [ 265.1173,  -97.1119],\n",
      "        [ 127.6338, -151.4588],\n",
      "        [ 218.5402, -105.6904]], grad_fn=<AddBackward0>)\n"
     ]
    }
   ],
   "source": [
    "# Generate predictions\n",
    "preds = model(inputs)\n",
    "print(preds)"
   ]
  },
  {
   "cell_type": "code",
   "execution_count": 55,
   "id": "7a7ec2ef",
   "metadata": {},
   "outputs": [
    {
     "name": "stdout",
     "output_type": "stream",
     "text": [
      "tensor(29701.6367, grad_fn=<DivBackward0>)\n"
     ]
    }
   ],
   "source": [
    "# Calculate the loss\n",
    "loss = mse(preds, targets)\n",
    "print(loss)"
   ]
  },
  {
   "cell_type": "code",
   "execution_count": 56,
   "id": "1ae029f8",
   "metadata": {},
   "outputs": [
    {
     "name": "stdout",
     "output_type": "stream",
     "text": [
      "tensor([[ 10091.1895,  10645.0312,   6599.5298],\n",
      "        [-17772.2891, -18575.6758, -11719.8047]])\n",
      "tensor([ 119.1644, -210.4701])\n"
     ]
    }
   ],
   "source": [
    "# Compute gradients\n",
    "loss.backward()\n",
    "print(w.grad)\n",
    "print(b.grad)"
   ]
  },
  {
   "cell_type": "markdown",
   "id": "f5c19541",
   "metadata": {},
   "source": [
    "Finally we update the weights and biases using the gradients computed"
   ]
  },
  {
   "cell_type": "code",
   "execution_count": 61,
   "id": "5ea91e7e",
   "metadata": {},
   "outputs": [],
   "source": [
    "# Adjust weights and biases\n",
    "\n",
    "with torch.no_grad():\n",
    "    w -= w.grad * 1e-5\n",
    "    b -= b.grad * 1e-5\n",
    "    \n",
    "    w.grad.zero_()\n",
    "    b.grad.zero_()"
   ]
  },
  {
   "cell_type": "code",
   "execution_count": 63,
   "id": "240df317",
   "metadata": {},
   "outputs": [
    {
     "name": "stdout",
     "output_type": "stream",
     "text": [
      "tensor([[ 0.2322,  1.2491,  0.8448],\n",
      "        [-1.2070,  0.7712, -0.8208]], requires_grad=True)\n",
      "tensor([ 1.6682, -0.6834], requires_grad=True)\n"
     ]
    }
   ],
   "source": [
    "# Lets take a look at the weights and the biases\n",
    "print(w)\n",
    "print(b)"
   ]
  },
  {
   "cell_type": "markdown",
   "id": "03939154",
   "metadata": {},
   "source": [
    "# We go again"
   ]
  },
  {
   "cell_type": "code",
   "execution_count": 64,
   "id": "08285f13",
   "metadata": {},
   "outputs": [
    {
     "name": "stdout",
     "output_type": "stream",
     "text": [
      "tensor([[ 138.6333,  -72.4189],\n",
      "        [ 186.7842,  -95.1871],\n",
      "        [ 238.2447,  -49.9590],\n",
      "        [ 110.3204, -121.0050],\n",
      "        [ 196.7372,  -67.3889]], grad_fn=<AddBackward0>)\n"
     ]
    }
   ],
   "source": [
    "# Generate predictions\n",
    "preds = model(inputs)\n",
    "print(preds)"
   ]
  },
  {
   "cell_type": "code",
   "execution_count": 65,
   "id": "a393ace2",
   "metadata": {},
   "outputs": [
    {
     "name": "stdout",
     "output_type": "stream",
     "text": [
      "tensor(20077.7930, grad_fn=<DivBackward0>)\n"
     ]
    }
   ],
   "source": [
    "# Calculate the loss\n",
    "loss = mse(preds, targets)\n",
    "print(loss)"
   ]
  },
  {
   "cell_type": "markdown",
   "id": "aa0d7f4b",
   "metadata": {},
   "source": [
    "# Train for multiple epochs"
   ]
  },
  {
   "cell_type": "code",
   "execution_count": 68,
   "id": "f1fecd82",
   "metadata": {},
   "outputs": [],
   "source": [
    "# Train for 100 epochs\n",
    "\n",
    "for i in range(100):\n",
    "    preds = model(inputs)\n",
    "    loss = mse(preds, targets)\n",
    "    loss.backward()\n",
    "    \n",
    "    with torch.no_grad():\n",
    "        w -= w.grad * 1e-5\n",
    "        b -= b.grad * 1e-5\n",
    "        \n",
    "        w.grad.zero_()\n",
    "        b.grad.zero_()"
   ]
  },
  {
   "cell_type": "markdown",
   "id": "edfb1edf",
   "metadata": {},
   "source": [
    "Let's verify the answer"
   ]
  },
  {
   "cell_type": "code",
   "execution_count": 69,
   "id": "4fd6752a",
   "metadata": {},
   "outputs": [
    {
     "name": "stdout",
     "output_type": "stream",
     "text": [
      "tensor(103.9035, grad_fn=<DivBackward0>)\n"
     ]
    }
   ],
   "source": [
    "# Calculate the loss\n",
    "loss = mse(preds, targets)\n",
    "print(loss)"
   ]
  },
  {
   "cell_type": "code",
   "execution_count": 70,
   "id": "583f965f",
   "metadata": {},
   "outputs": [
    {
     "data": {
      "text/plain": [
       "tensor([[ 58.4268,  68.9596],\n",
       "        [ 81.9021,  90.4754],\n",
       "        [117.3632, 158.3120],\n",
       "        [ 26.6820,  28.8905],\n",
       "        [ 98.4497, 106.0109]], grad_fn=<AddBackward0>)"
      ]
     },
     "execution_count": 70,
     "metadata": {},
     "output_type": "execute_result"
    }
   ],
   "source": [
    "# predictions\n",
    "preds"
   ]
  },
  {
   "cell_type": "code",
   "execution_count": 71,
   "id": "94548f9d",
   "metadata": {},
   "outputs": [
    {
     "data": {
      "text/plain": [
       "tensor([[ 56.,  70.],\n",
       "        [ 81., 101.],\n",
       "        [119., 133.],\n",
       "        [ 22.,  37.],\n",
       "        [103., 119.]])"
      ]
     },
     "execution_count": 71,
     "metadata": {},
     "output_type": "execute_result"
    }
   ],
   "source": [
    "# Targets\n",
    "targets"
   ]
  },
  {
   "cell_type": "markdown",
   "id": "f01b7b65",
   "metadata": {},
   "source": [
    "# Linear regression with PyTorch built-ins"
   ]
  },
  {
   "cell_type": "code",
   "execution_count": 72,
   "id": "8df15e60",
   "metadata": {},
   "outputs": [],
   "source": [
    "import torch.nn as nn"
   ]
  },
  {
   "cell_type": "code",
   "execution_count": 79,
   "id": "b65b3483",
   "metadata": {},
   "outputs": [],
   "source": [
    "# Inputs (temp, rainfall, humidity)\n",
    "\n",
    "inputs = np.array([[73, 67, 43], [91, 88, 64],\n",
    "                    [87, 134, 58], [102, 43, 37],\n",
    "                    [69, 96, 70], [74, 66, 43],\n",
    "                    [91, 87, 65], [88, 134, 59],\n",
    "                    [101, 44, 37], [68, 96, 71],\n",
    "                    [73, 66, 44], [92, 87, 64], \n",
    "                    [87, 135, 57], [103, 43, 36], [68, 97, 70]], dtype='float32')\n",
    "\n",
    "\n",
    "# Targets (apples, oranges)\n",
    "targets = np.array([[56, 70], [81, 101], [119, 133],\n",
    "                    [22, 37],  [103, 119], [57, 69], \n",
    "                    [80, 102], [118, 132], [21, 38], \n",
    "                    [104, 118], [57, 69], [82, 100], \n",
    "                    [118, 134], [20, 38], [102, 120]], dtype='float32')\n",
    "\n",
    "inputs = torch.from_numpy(inputs)\n",
    "targets = torch.from_numpy(targets)"
   ]
  },
  {
   "cell_type": "code",
   "execution_count": 80,
   "id": "73a7d9b0",
   "metadata": {},
   "outputs": [
    {
     "data": {
      "text/plain": [
       "tensor([[ 73.,  67.,  43.],\n",
       "        [ 91.,  88.,  64.],\n",
       "        [ 87., 134.,  58.],\n",
       "        [102.,  43.,  37.],\n",
       "        [ 69.,  96.,  70.],\n",
       "        [ 74.,  66.,  43.],\n",
       "        [ 91.,  87.,  65.],\n",
       "        [ 88., 134.,  59.],\n",
       "        [101.,  44.,  37.],\n",
       "        [ 68.,  96.,  71.],\n",
       "        [ 73.,  66.,  44.],\n",
       "        [ 92.,  87.,  64.],\n",
       "        [ 87., 135.,  57.],\n",
       "        [103.,  43.,  36.],\n",
       "        [ 68.,  97.,  70.]])"
      ]
     },
     "execution_count": 80,
     "metadata": {},
     "output_type": "execute_result"
    }
   ],
   "source": [
    "inputs"
   ]
  },
  {
   "cell_type": "code",
   "execution_count": 81,
   "id": "e9ae8d2d",
   "metadata": {},
   "outputs": [
    {
     "data": {
      "text/plain": [
       "tensor([[ 56.,  70.],\n",
       "        [ 81., 101.],\n",
       "        [119., 133.],\n",
       "        [ 22.,  37.],\n",
       "        [103., 119.],\n",
       "        [ 57.,  69.],\n",
       "        [ 80., 102.],\n",
       "        [118., 132.],\n",
       "        [ 21.,  38.],\n",
       "        [104., 118.],\n",
       "        [ 57.,  69.],\n",
       "        [ 82., 100.],\n",
       "        [118., 134.],\n",
       "        [ 20.,  38.],\n",
       "        [102., 120.]])"
      ]
     },
     "execution_count": 81,
     "metadata": {},
     "output_type": "execute_result"
    }
   ],
   "source": [
    "targets"
   ]
  },
  {
   "cell_type": "markdown",
   "id": "ada452b8",
   "metadata": {},
   "source": [
    "Here we are using 15 elements"
   ]
  },
  {
   "cell_type": "markdown",
   "id": "145ac891",
   "metadata": {},
   "source": [
    "# Dataset and DataLoader\n",
    "\n",
    "We'll create a TensorDataset , which allows access to rows from inputs and targets as tuples, and\n",
    "provides standard APIs for working with many different types of datasets in PyTorch."
   ]
  },
  {
   "cell_type": "code",
   "execution_count": 85,
   "id": "2008f217",
   "metadata": {},
   "outputs": [],
   "source": [
    "from torch.utils.data import TensorDataset"
   ]
  },
  {
   "cell_type": "code",
   "execution_count": 87,
   "id": "e176aac5",
   "metadata": {},
   "outputs": [
    {
     "data": {
      "text/plain": [
       "(tensor([[ 73.,  67.,  43.],\n",
       "         [ 91.,  88.,  64.],\n",
       "         [ 87., 134.,  58.]]),\n",
       " tensor([[ 56.,  70.],\n",
       "         [ 81., 101.],\n",
       "         [119., 133.]]))"
      ]
     },
     "execution_count": 87,
     "metadata": {},
     "output_type": "execute_result"
    }
   ],
   "source": [
    "# Define dataset\n",
    "train_ds = TensorDataset(inputs, targets)\n",
    "train_ds[0:3]"
   ]
  },
  {
   "cell_type": "code",
   "execution_count": 88,
   "id": "fc2214e3",
   "metadata": {},
   "outputs": [],
   "source": [
    "from torch.utils.data import DataLoader"
   ]
  },
  {
   "cell_type": "code",
   "execution_count": 96,
   "id": "91e133d3",
   "metadata": {},
   "outputs": [],
   "source": [
    "# Define a data loader\n",
    "batch_size = 5\n",
    "train_dl = DataLoader(train_ds, batch_size, shuffle = True)"
   ]
  },
  {
   "cell_type": "markdown",
   "id": "83a050b1",
   "metadata": {},
   "source": [
    "The data loader is typically used in a `for-in` loop. Let's take a look at the example"
   ]
  },
  {
   "cell_type": "code",
   "execution_count": 97,
   "id": "40b34f2f",
   "metadata": {},
   "outputs": [
    {
     "name": "stdout",
     "output_type": "stream",
     "text": [
      "tensor([[ 92.,  87.,  64.],\n",
      "        [101.,  44.,  37.],\n",
      "        [ 68.,  96.,  71.],\n",
      "        [ 74.,  66.,  43.],\n",
      "        [ 73.,  67.,  43.]])\n",
      "tensor([[ 82., 100.],\n",
      "        [ 21.,  38.],\n",
      "        [104., 118.],\n",
      "        [ 57.,  69.],\n",
      "        [ 56.,  70.]])\n"
     ]
    }
   ],
   "source": [
    "for xb, yb in train_dl:\n",
    "    print(xb)\n",
    "    print(yb)\n",
    "    break"
   ]
  },
  {
   "cell_type": "markdown",
   "id": "37af7492",
   "metadata": {},
   "source": [
    "# nn.Linear\n",
    "Instead of initializing the weights & biases manually, we can define the model using the `nn.Linear` class from PyTorch, which does it automatically"
   ]
  },
  {
   "cell_type": "code",
   "execution_count": 100,
   "id": "b03ec9e7",
   "metadata": {},
   "outputs": [
    {
     "name": "stdout",
     "output_type": "stream",
     "text": [
      "Parameter containing:\n",
      "tensor([[-0.1525,  0.3269, -0.3252],\n",
      "        [-0.2350, -0.0743,  0.1175]], requires_grad=True)\n",
      "Parameter containing:\n",
      "tensor([-0.2382,  0.1200], requires_grad=True)\n"
     ]
    }
   ],
   "source": [
    "# Define the model\n",
    "model = nn.Linear(3, 2) # The (3,2) means three input and 2 target variables\n",
    "print(model.weight)\n",
    "print(model.bias)"
   ]
  },
  {
   "cell_type": "markdown",
   "id": "d65a6607",
   "metadata": {},
   "source": [
    "PyTorch models also have a helpful .parameters method, which returns a list containing all the weights and\n",
    "bias matrices present in the model. For our linear regression model, we have one weight matrix and one bias\n",
    "matrix."
   ]
  },
  {
   "cell_type": "code",
   "execution_count": 103,
   "id": "d50d0926",
   "metadata": {},
   "outputs": [
    {
     "data": {
      "text/plain": [
       "[Parameter containing:\n",
       " tensor([[-0.1525,  0.3269, -0.3252],\n",
       "         [-0.2350, -0.0743,  0.1175]], requires_grad=True),\n",
       " Parameter containing:\n",
       " tensor([-0.2382,  0.1200], requires_grad=True)]"
      ]
     },
     "execution_count": 103,
     "metadata": {},
     "output_type": "execute_result"
    }
   ],
   "source": [
    "# To check for the parameters\n",
    "list(model.parameters())"
   ]
  },
  {
   "cell_type": "code",
   "execution_count": 104,
   "id": "aa99ce30",
   "metadata": {},
   "outputs": [
    {
     "name": "stdout",
     "output_type": "stream",
     "text": [
      "tensor([[ -3.4493, -16.9638],\n",
      "        [ -6.1574, -20.2879],\n",
      "        [ 11.4421, -23.4714],\n",
      "        [-13.7672, -22.6997],\n",
      "        [ -2.1377, -15.0077],\n",
      "        [ -3.9287, -17.1244],\n",
      "        [ -6.8094, -20.0961],\n",
      "        [ 10.9644, -23.5890],\n",
      "        [-13.2878, -22.5391],\n",
      "        [ -2.3104, -14.6553],\n",
      "        [ -4.1013, -16.7720],\n",
      "        [ -6.6368, -20.4486],\n",
      "        [ 12.0942, -23.6632],\n",
      "        [-13.5945, -23.0522],\n",
      "        [ -1.6583, -14.8471]], grad_fn=<AddmmBackward0>)\n"
     ]
    }
   ],
   "source": [
    "preds = model(inputs)\n",
    "print(preds)"
   ]
  },
  {
   "cell_type": "markdown",
   "id": "3a9d7f4e",
   "metadata": {},
   "source": [
    "# Loss Function"
   ]
  },
  {
   "cell_type": "code",
   "execution_count": 106,
   "id": "5608c80d",
   "metadata": {},
   "outputs": [],
   "source": [
    "# Import nn.functional\n",
    "import torch.nn.functional as F"
   ]
  },
  {
   "cell_type": "code",
   "execution_count": 109,
   "id": "cbdfac63",
   "metadata": {},
   "outputs": [],
   "source": [
    "# Define the loss function\n",
    "loss_fn = F.mse_loss"
   ]
  },
  {
   "cell_type": "code",
   "execution_count": 113,
   "id": "326c3302",
   "metadata": {},
   "outputs": [
    {
     "data": {
      "text/plain": [
       "tensor(10320.0674, grad_fn=<MseLossBackward0>)"
      ]
     },
     "execution_count": 113,
     "metadata": {},
     "output_type": "execute_result"
    }
   ],
   "source": [
    "loss = loss_fn(model(inputs), targets)\n",
    "loss"
   ]
  },
  {
   "cell_type": "markdown",
   "id": "bfe96054",
   "metadata": {},
   "source": [
    "# Optimizer"
   ]
  },
  {
   "cell_type": "code",
   "execution_count": 114,
   "id": "4d9eaacb",
   "metadata": {},
   "outputs": [],
   "source": [
    "# Define optimizer\n",
    "opt = torch.optim.SGD(model.parameters(), lr = 1e-5)"
   ]
  },
  {
   "cell_type": "markdown",
   "id": "71e5f848",
   "metadata": {},
   "source": [
    "# Train the model\n",
    "We are now ready to train the model. We'll follow the same process to implement gradient descent:\n",
    "1. Generate predictions\n",
    "2. Calculate the loss\n",
    "3. Compute gradients w.r.t the weights and biases\n",
    "4. Adjust the weights by subtracting a small quantity proportional to the gradient\n",
    "5. Reset the gradients to zero\n",
    "The only change is that we'll work batches of data instead of processing the entire training data in every iteration.\n",
    "Let's de"
   ]
  },
  {
   "cell_type": "code",
   "execution_count": 129,
   "id": "a6c63b99",
   "metadata": {},
   "outputs": [],
   "source": [
    "# Utility function to train the model\n",
    "def fit(num_epochs, model, loss_fn, opt, train_dl):\n",
    "    \n",
    "    # Repeat for the number of epochs\n",
    "    for epoch in range(num_epochs):\n",
    "        \n",
    "        # Train with the batches of data\n",
    "        for xb, yb in train_dl:\n",
    "            # 1. Generate predictions\n",
    "            pred = model(xb)\n",
    "            \n",
    "            # 2. Calculate loss\n",
    "            loss = loss_fn(pred, yb)\n",
    "            \n",
    "            # 3. Compute Gradients\n",
    "            loss.backward()\n",
    "            \n",
    "            # 4. Update parameters using gradients\n",
    "            opt.step()\n",
    "            \n",
    "            # 5. Reset the gradient to zero\n",
    "            opt.zero_grad()\n",
    "            \n",
    "        # Print the progress\n",
    "        if (epoch+1) % 10 == 0:\n",
    "            print(f\"Epoch [{epoch+1}/ {num_epochs}] , Loss {loss.item():.4f}\")"
   ]
  },
  {
   "cell_type": "code",
   "execution_count": 139,
   "id": "9a419fba",
   "metadata": {},
   "outputs": [
    {
     "name": "stdout",
     "output_type": "stream",
     "text": [
      "Epoch [10/ 100] , Loss 1.2486\n",
      "Epoch [20/ 100] , Loss 0.8505\n",
      "Epoch [30/ 100] , Loss 1.1959\n",
      "Epoch [40/ 100] , Loss 1.2666\n",
      "Epoch [50/ 100] , Loss 1.4482\n",
      "Epoch [60/ 100] , Loss 1.2795\n",
      "Epoch [70/ 100] , Loss 0.6489\n",
      "Epoch [80/ 100] , Loss 1.1438\n",
      "Epoch [90/ 100] , Loss 1.3725\n",
      "Epoch [100/ 100] , Loss 0.8779\n"
     ]
    }
   ],
   "source": [
    "history = fit(100, model, loss_fn, opt, train_dl)\n",
    "history"
   ]
  },
  {
   "cell_type": "markdown",
   "id": "b3bdfbca",
   "metadata": {},
   "source": [
    "Lets generate predictions using our model and verify that they're close to targets"
   ]
  },
  {
   "cell_type": "code",
   "execution_count": 140,
   "id": "667344cb",
   "metadata": {},
   "outputs": [
    {
     "data": {
      "text/plain": [
       "tensor([[ 56.8880,  70.4498],\n",
       "        [ 81.9636, 100.5369],\n",
       "        [118.2652, 132.8985],\n",
       "        [ 20.8236,  37.8004],\n",
       "        [101.7050, 118.4819],\n",
       "        [ 55.6422,  69.3700],\n",
       "        [ 81.8121, 100.6269],\n",
       "        [118.5573, 133.4964],\n",
       "        [ 22.0694,  38.8803],\n",
       "        [102.7993, 119.6517],\n",
       "        [ 56.7365,  70.5398],\n",
       "        [ 80.7178,  99.4571],\n",
       "        [118.4167, 132.8085],\n",
       "        [ 19.7293,  36.6306],\n",
       "        [102.9508, 119.5618]], grad_fn=<AddmmBackward0>)"
      ]
     },
     "execution_count": 140,
     "metadata": {},
     "output_type": "execute_result"
    }
   ],
   "source": [
    "# Generate predictions\n",
    "preds = model(inputs)\n",
    "preds"
   ]
  },
  {
   "cell_type": "code",
   "execution_count": 142,
   "id": "98ca1c31",
   "metadata": {},
   "outputs": [
    {
     "data": {
      "text/plain": [
       "tensor([[ 56.,  70.],\n",
       "        [ 81., 101.],\n",
       "        [119., 133.],\n",
       "        [ 22.,  37.],\n",
       "        [103., 119.],\n",
       "        [ 57.,  69.],\n",
       "        [ 80., 102.],\n",
       "        [118., 132.],\n",
       "        [ 21.,  38.],\n",
       "        [104., 118.],\n",
       "        [ 57.,  69.],\n",
       "        [ 82., 100.],\n",
       "        [118., 134.],\n",
       "        [ 20.,  38.],\n",
       "        [102., 120.]])"
      ]
     },
     "execution_count": 142,
     "metadata": {},
     "output_type": "execute_result"
    }
   ],
   "source": [
    "# Compare with targets\n",
    "targets"
   ]
  },
  {
   "cell_type": "code",
   "execution_count": null,
   "id": "49a47b94",
   "metadata": {},
   "outputs": [],
   "source": []
  }
 ],
 "metadata": {
  "kernelspec": {
   "display_name": "Python 3 (ipykernel)",
   "language": "python",
   "name": "python3"
  },
  "language_info": {
   "codemirror_mode": {
    "name": "ipython",
    "version": 3
   },
   "file_extension": ".py",
   "mimetype": "text/x-python",
   "name": "python",
   "nbconvert_exporter": "python",
   "pygments_lexer": "ipython3",
   "version": "3.10.9"
  }
 },
 "nbformat": 4,
 "nbformat_minor": 5
}

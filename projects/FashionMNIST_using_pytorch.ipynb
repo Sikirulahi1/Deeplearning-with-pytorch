{
  "nbformat": 4,
  "nbformat_minor": 0,
  "metadata": {
    "colab": {
      "provenance": []
    },
    "kernelspec": {
      "name": "python3",
      "display_name": "Python 3"
    },
    "language_info": {
      "name": "python"
    }
  },
  "cells": [
    {
      "cell_type": "code",
      "source": [
        "from google.colab import drive\n",
        "drive.mount('/content/drive')"
      ],
      "metadata": {
        "id": "umkK3x0fUSff",
        "colab": {
          "base_uri": "https://localhost:8080/"
        },
        "outputId": "c3421fdc-ec9a-4c7d-dc38-daf311580764"
      },
      "execution_count": 1,
      "outputs": [
        {
          "output_type": "stream",
          "name": "stdout",
          "text": [
            "Drive already mounted at /content/drive; to attempt to forcibly remount, call drive.mount(\"/content/drive\", force_remount=True).\n"
          ]
        }
      ]
    },
    {
      "cell_type": "markdown",
      "source": [
        "### Import the dependencies"
      ],
      "metadata": {
        "id": "c8tVoLcIUYBC"
      }
    },
    {
      "cell_type": "code",
      "execution_count": 1,
      "metadata": {
        "id": "NU41GeMAY1Bb"
      },
      "outputs": [],
      "source": [
        "import torch\n",
        "import numpy as np\n",
        "import matplotlib.pyplot as plt\n",
        "from torch.utils.data import DataLoader, random_split\n",
        "from torchvision.transforms import transforms\n",
        "from torchvision.datasets import FashionMNIST\n",
        "import torch.nn as nn\n",
        "import torch.nn.functional as F\n",
        "\n",
        "%matplotlib inline"
      ]
    },
    {
      "cell_type": "markdown",
      "source": [
        "### Download the dataset"
      ],
      "metadata": {
        "id": "4VHLaEvNZsxV"
      }
    },
    {
      "cell_type": "code",
      "source": [
        "dataset = FashionMNIST(root = \"/content/drive/MyDrive/Deep Learning/pytorch_zero_to_gans/data\", download = True)"
      ],
      "metadata": {
        "id": "MOCOMap7ZUwG"
      },
      "execution_count": 2,
      "outputs": []
    },
    {
      "cell_type": "code",
      "source": [
        "test = FashionMNIST(root = \"/content/drive/MyDrive/Deep Learning/pytorch_zero_to_gans/data\", train = False)"
      ],
      "metadata": {
        "id": "8RZsI78Uanbd"
      },
      "execution_count": 3,
      "outputs": []
    },
    {
      "cell_type": "markdown",
      "source": [
        "### Checking the number of main dataset and test"
      ],
      "metadata": {
        "id": "nu5xp9qKbADK"
      }
    },
    {
      "cell_type": "code",
      "source": [
        "len(dataset), len(test)"
      ],
      "metadata": {
        "id": "K-XpEsUDayTF",
        "colab": {
          "base_uri": "https://localhost:8080/"
        },
        "outputId": "34daf772-3f68-4dfe-ef64-713c58233c5a"
      },
      "execution_count": 4,
      "outputs": [
        {
          "output_type": "execute_result",
          "data": {
            "text/plain": [
              "(60000, 10000)"
            ]
          },
          "metadata": {},
          "execution_count": 4
        }
      ]
    },
    {
      "cell_type": "markdown",
      "source": [
        "### The class names"
      ],
      "metadata": {
        "id": "aW_xJsgPcN4l"
      }
    },
    {
      "cell_type": "code",
      "source": [
        "def output_label(label):\n",
        "    output_mapping = {\n",
        "                 0: \"T-shirt/Top\",\n",
        "                 1: \"Trouser\",\n",
        "                 2: \"Pullover\",\n",
        "                 3: \"Dress\",\n",
        "                 4: \"Coat\",\n",
        "                 5: \"Sandal\",\n",
        "                 6: \"Shirt\",\n",
        "                 7: \"Sneaker\",\n",
        "                 8: \"Bag\",\n",
        "                 9: \"Ankle Boot\"\n",
        "                 }\n",
        "    input = (label.item() if type(label) == torch.Tensor else label)\n",
        "    return output_mapping[input]"
      ],
      "metadata": {
        "id": "rAYntMMBhZKH"
      },
      "execution_count": 5,
      "outputs": []
    },
    {
      "cell_type": "code",
      "source": [
        "# Lets check what is entailed in the train and test\n",
        "image, label = dataset[0]\n",
        "plt.imshow(image, cmap = 'gray')\n",
        "print('Label',output_label(label))"
      ],
      "metadata": {
        "id": "tJRrcFWha1Dd",
        "colab": {
          "base_uri": "https://localhost:8080/",
          "height": 447
        },
        "outputId": "92d0c771-bdc3-4360-f7f2-4b2745c0f9c3"
      },
      "execution_count": 6,
      "outputs": [
        {
          "output_type": "stream",
          "name": "stdout",
          "text": [
            "Label Ankle Boot\n"
          ]
        },
        {
          "output_type": "display_data",
          "data": {
            "text/plain": [
              "<Figure size 640x480 with 1 Axes>"
            ],
            "image/png": "[encoded data removed]"
          },
          "metadata": {}
        }
      ]
    },
    {
      "cell_type": "code",
      "source": [
        "image, label = dataset[10]\n",
        "plt.imshow(image, cmap = 'gray')\n",
        "print(\"Label\", output_label(label))"
      ],
      "metadata": {
        "id": "JsPVKBeva4hL",
        "colab": {
          "base_uri": "https://localhost:8080/",
          "height": 447
        },
        "outputId": "fbdd480a-36cf-4f65-e996-fd3a28ab1fb0"
      },
      "execution_count": 7,
      "outputs": [
        {
          "output_type": "stream",
          "name": "stdout",
          "text": [
            "Label T-shirt/Top\n"
          ]
        },
        {
          "output_type": "display_data",
          "data": {
            "text/plain": [
              "<Figure size 640x480 with 1 Axes>"
            ],
            "image/png": "[encoded data removed]"
          },
          "metadata": {}
        }
      ]
    },
    {
      "cell_type": "code",
      "source": [
        "image, label = dataset[120]\n",
        "plt.imshow(image, cmap = 'gray')\n",
        "print(\"Label\", output_label(label))"
      ],
      "metadata": {
        "id": "wcqwpFg2b6fb",
        "colab": {
          "base_uri": "https://localhost:8080/",
          "height": 447
        },
        "outputId": "9183b30a-b950-459a-bd5c-3161aac8a4c0"
      },
      "execution_count": 8,
      "outputs": [
        {
          "output_type": "stream",
          "name": "stdout",
          "text": [
            "Label Sandal\n"
          ]
        },
        {
          "output_type": "display_data",
          "data": {
            "text/plain": [
              "<Figure size 640x480 with 1 Axes>"
            ],
            "image/png": "[encoded data removed]"
          },
          "metadata": {}
        }
      ]
    },
    {
      "cell_type": "code",
      "source": [
        "plt.figure(figsize = (15, 10))\n",
        "for i in range(6):\n",
        "  image, label = dataset[i]\n",
        "  ax = plt.subplot(1, 6, i+1)\n",
        "  ax.imshow(image, cmap = 'gray')\n",
        "  plt.tight_layout()\n",
        "  plt.title(output_label(label))"
      ],
      "metadata": {
        "id": "sd8QYSRZdjzx",
        "colab": {
          "base_uri": "https://localhost:8080/",
          "height": 274
        },
        "outputId": "f6f2cbd7-333d-405b-a181-3ddb446cb4f2"
      },
      "execution_count": 9,
      "outputs": [
        {
          "output_type": "display_data",
          "data": {
            "text/plain": [
              "<Figure size 1500x1000 with 6 Axes>"
            ],
            "image/png": "[encoded data removed]"
          },
          "metadata": {}
        }
      ]
    },
    {
      "cell_type": "markdown",
      "source": [
        "### Converting the images to tensors"
      ],
      "metadata": {
        "id": "Ngy6j1C-gRtB"
      }
    },
    {
      "cell_type": "code",
      "source": [
        "dataset = FashionMNIST(root = \"/content/drive/MyDrive/Deep Learning/pytorch_zero_to_gans/data\", train = True,\n",
        "                        transform = transforms.ToTensor())"
      ],
      "metadata": {
        "id": "SjR4NebyfGHY"
      },
      "execution_count": 10,
      "outputs": []
    },
    {
      "cell_type": "code",
      "source": [
        "test = FashionMNIST(root = \"/content/drive/MyDrive/Deep Learning/pytorch_zero_to_gans/data\", train = False,\n",
        "                        transform = transforms.ToTensor())"
      ],
      "metadata": {
        "id": "iVxoV9FMkJPE"
      },
      "execution_count": 11,
      "outputs": []
    },
    {
      "cell_type": "code",
      "source": [
        "dataset"
      ],
      "metadata": {
        "id": "Q7kp3mRWkawQ",
        "colab": {
          "base_uri": "https://localhost:8080/"
        },
        "outputId": "7dd49d93-783d-4436-a598-f6f25882a05a"
      },
      "execution_count": 12,
      "outputs": [
        {
          "output_type": "execute_result",
          "data": {
            "text/plain": [
              "Dataset FashionMNIST\n",
              "    Number of datapoints: 60000\n",
              "    Root location: /content/drive/MyDrive/Deep Learning/pytorch_zero_to_gans/data\n",
              "    Split: Train\n",
              "    StandardTransform\n",
              "Transform: ToTensor()"
            ]
          },
          "metadata": {},
          "execution_count": 12
        }
      ]
    },
    {
      "cell_type": "code",
      "source": [
        "test"
      ],
      "metadata": {
        "id": "Dvn-OX38kcyE",
        "colab": {
          "base_uri": "https://localhost:8080/"
        },
        "outputId": "565f3bc8-bb01-465a-91ce-be59939ab4e4"
      },
      "execution_count": 13,
      "outputs": [
        {
          "output_type": "execute_result",
          "data": {
            "text/plain": [
              "Dataset FashionMNIST\n",
              "    Number of datapoints: 10000\n",
              "    Root location: /content/drive/MyDrive/Deep Learning/pytorch_zero_to_gans/data\n",
              "    Split: Test\n",
              "    StandardTransform\n",
              "Transform: ToTensor()"
            ]
          },
          "metadata": {},
          "execution_count": 13
        }
      ]
    },
    {
      "cell_type": "markdown",
      "source": [
        "### Splitting the dataset into train and validation using the RandomSampler"
      ],
      "metadata": {
        "id": "VhjPkPtGksCD"
      }
    },
    {
      "cell_type": "code",
      "source": [
        "from torch.utils.data import random_split, DataLoader\n",
        "\n",
        "train_ds, val_ds = random_split(dataset, [50000, 10000])"
      ],
      "metadata": {
        "id": "JVX0n2znlZFY"
      },
      "execution_count": 14,
      "outputs": []
    },
    {
      "cell_type": "markdown",
      "source": [
        "### Loading the datasets using the DataLoader"
      ],
      "metadata": {
        "id": "Qras3AvynDd5"
      }
    },
    {
      "cell_type": "code",
      "source": [
        "batch_size = 128\n",
        "train_loader = DataLoader(train_ds, batch_size, shuffle = True)\n",
        "val_loader = DataLoader(val_ds, batch_size)"
      ],
      "metadata": {
        "id": "BTdm2fz4mamF"
      },
      "execution_count": 15,
      "outputs": []
    },
    {
      "cell_type": "code",
      "source": [
        "len(train_loader), len(val_loader)"
      ],
      "metadata": {
        "id": "GB_jI8vzqPGf",
        "colab": {
          "base_uri": "https://localhost:8080/"
        },
        "outputId": "8dd7cea5-7237-402f-f93d-2b0d3a7a4f77"
      },
      "execution_count": 16,
      "outputs": [
        {
          "output_type": "execute_result",
          "data": {
            "text/plain": [
              "(391, 79)"
            ]
          },
          "metadata": {},
          "execution_count": 16
        }
      ]
    },
    {
      "cell_type": "code",
      "source": [
        "input_size = 28 * 28\n",
        "num_classes = 10\n",
        "\n",
        "model = nn.Linear(input_size, num_classes)"
      ],
      "metadata": {
        "id": "aZP6PVUKqSUs"
      },
      "execution_count": 17,
      "outputs": []
    },
    {
      "cell_type": "code",
      "source": [
        "model.weight.shape"
      ],
      "metadata": {
        "colab": {
          "base_uri": "https://localhost:8080/"
        },
        "id": "DIG8rKLy1coj",
        "outputId": "d903cd13-bdf2-4a35-d6b4-d04c651e7c1f"
      },
      "execution_count": 18,
      "outputs": [
        {
          "output_type": "execute_result",
          "data": {
            "text/plain": [
              "torch.Size([10, 784])"
            ]
          },
          "metadata": {},
          "execution_count": 18
        }
      ]
    },
    {
      "cell_type": "code",
      "source": [
        "model.bias.shape"
      ],
      "metadata": {
        "colab": {
          "base_uri": "https://localhost:8080/"
        },
        "id": "-R1xPcXq1ck9",
        "outputId": "adc6ab67-b276-43ba-c9c8-0822bf2de701"
      },
      "execution_count": 19,
      "outputs": [
        {
          "output_type": "execute_result",
          "data": {
            "text/plain": [
              "torch.Size([10])"
            ]
          },
          "metadata": {},
          "execution_count": 19
        }
      ]
    },
    {
      "cell_type": "markdown",
      "source": [
        "### Creating a function for accuracy"
      ],
      "metadata": {
        "id": "wqTEfV_X4GQy"
      }
    },
    {
      "cell_type": "code",
      "source": [
        "def accuracy(output, label):\n",
        "  preds = F.softmax(output, dim = 1)\n",
        "  _, pred = torch.max(preds, dim = 1)\n",
        "  return torch.tensor(torch.sum(pred == label).item() / len(pred))"
      ],
      "metadata": {
        "id": "k7R7ONMv4GAq"
      },
      "execution_count": 20,
      "outputs": []
    },
    {
      "cell_type": "markdown",
      "source": [
        "## Creating and extending the ability of the model"
      ],
      "metadata": {
        "id": "IRpyKE_yuj-k"
      }
    },
    {
      "cell_type": "code",
      "source": [
        "import torch.nn.functional as F\n",
        "\n",
        "class fashionMNIST(nn.Module):\n",
        "  def __init__(self):\n",
        "    super().__init__()\n",
        "    self.linear = nn.Linear(input_size, num_classes)\n",
        "\n",
        "  def forward(self, xb):\n",
        "    xb = xb.reshape(-1, 784)\n",
        "    output = self.linear(xb)\n",
        "    return output\n",
        "\n",
        "  def training_step(self, batch):\n",
        "    images, labels = batch\n",
        "    output = self(images)\n",
        "    loss = F.cross_entropy(output, labels)\n",
        "    return loss\n",
        "\n",
        "  def validation_step(self, batch):\n",
        "    image, label = batch\n",
        "    output = self(image)\n",
        "    loss = F.cross_entropy(output, label)\n",
        "    acc = accuracy(output, label)\n",
        "    return {'val_loss' : loss, 'val_acc' : acc}\n",
        "\n",
        "  def validation_epoch_end(self, output):\n",
        "    loss = [x['val_loss'] for x in output]\n",
        "    accuracy = [x['val_acc'] for x in output]\n",
        "    val_loss = torch.stack(loss).mean()\n",
        "    val_acc = torch.stack(accuracy).mean()\n",
        "    return {'val_loss' : val_loss, 'val_acc' : val_acc}\n",
        "\n",
        "  def epoch_end(self, epoch, result):\n",
        "    print(f\"Epoch [{epoch}], val_loss : {result['val_loss']:.4f}, val_acc : {result['val_acc']:.4f}\")\n",
        "\n",
        "\n",
        "model = fashionMNIST()"
      ],
      "metadata": {
        "id": "vEhqiB3wyW70"
      },
      "execution_count": 21,
      "outputs": []
    },
    {
      "cell_type": "markdown",
      "source": [
        "## Evaluation"
      ],
      "metadata": {
        "id": "3KBGHZpxuxgP"
      }
    },
    {
      "cell_type": "code",
      "source": [
        "def evaluate(model, batches):\n",
        "  output = [model.validation_step(input) for input in batches]\n",
        "  return model.validation_epoch_end(output)"
      ],
      "metadata": {
        "id": "LdAMGSz3yx3Z"
      },
      "execution_count": 22,
      "outputs": []
    },
    {
      "cell_type": "code",
      "source": [
        "def fit(epochs, train_loader, val_loader, lr, optim = torch.optim.SGD):\n",
        "  history = []\n",
        "\n",
        "  optimizer = optim(model.parameters(), lr)\n",
        "  for epoch in range(epochs):\n",
        "\n",
        "    # Training step\n",
        "    for batch in train_loader:\n",
        "      loss = model.training_step(batch)\n",
        "      loss.backward()\n",
        "      optimizer.step()\n",
        "      optimizer.zero_grad()\n",
        "\n",
        "    # Evaluation step\n",
        "    result = evaluate(model, val_loader)\n",
        "    model.epoch_end(epoch, result)\n",
        "    history.append(result)\n"
      ],
      "metadata": {
        "id": "EiqI1tdZ0MHU"
      },
      "execution_count": 23,
      "outputs": []
    },
    {
      "cell_type": "markdown",
      "source": [
        "### Fit the model"
      ],
      "metadata": {
        "id": "u6kQe3BZTYWe"
      }
    },
    {
      "cell_type": "code",
      "source": [
        "epochs = 20\n",
        "history1 = fit(epochs, train_loader, val_loader, 0.01)"
      ],
      "metadata": {
        "colab": {
          "base_uri": "https://localhost:8080/"
        },
        "id": "YakyDrvN22EP",
        "outputId": "c6c141d9-6366-44e3-ddc9-ec468ed34713"
      },
      "execution_count": 24,
      "outputs": [
        {
          "output_type": "stream",
          "name": "stdout",
          "text": [
            "Epoch [0], val_loss : 0.9007, val_acc : 0.7133\n",
            "Epoch [1], val_loss : 0.7659, val_acc : 0.7563\n",
            "Epoch [2], val_loss : 0.7019, val_acc : 0.7822\n",
            "Epoch [3], val_loss : 0.6626, val_acc : 0.7945\n",
            "Epoch [4], val_loss : 0.6341, val_acc : 0.8054\n",
            "Epoch [5], val_loss : 0.6140, val_acc : 0.8081\n",
            "Epoch [6], val_loss : 0.5984, val_acc : 0.8117\n",
            "Epoch [7], val_loss : 0.5838, val_acc : 0.8137\n",
            "Epoch [8], val_loss : 0.5727, val_acc : 0.8167\n",
            "Epoch [9], val_loss : 0.5627, val_acc : 0.8219\n",
            "Epoch [10], val_loss : 0.5566, val_acc : 0.8201\n",
            "Epoch [11], val_loss : 0.5472, val_acc : 0.8235\n",
            "Epoch [12], val_loss : 0.5430, val_acc : 0.8229\n",
            "Epoch [13], val_loss : 0.5345, val_acc : 0.8259\n",
            "Epoch [14], val_loss : 0.5292, val_acc : 0.8278\n",
            "Epoch [15], val_loss : 0.5260, val_acc : 0.8275\n",
            "Epoch [16], val_loss : 0.5204, val_acc : 0.8287\n",
            "Epoch [17], val_loss : 0.5162, val_acc : 0.8302\n",
            "Epoch [18], val_loss : 0.5118, val_acc : 0.8310\n",
            "Epoch [19], val_loss : 0.5090, val_acc : 0.8303\n"
          ]
        }
      ]
    },
    {
      "cell_type": "markdown",
      "source": [
        "### Test the model using the test dataset"
      ],
      "metadata": {
        "id": "hIb1CkyIKfy4"
      }
    },
    {
      "cell_type": "code",
      "source": [
        "test_dataset = FashionMNIST(root = \"/content/drive/MyDrive/Deep Learning/pytorch_zero_to_gans/data\", train = False,\n",
        "                        transform = transforms.ToTensor())"
      ],
      "metadata": {
        "id": "Ev5mVSuzHv57"
      },
      "execution_count": 25,
      "outputs": []
    },
    {
      "cell_type": "code",
      "source": [
        "test_dataset"
      ],
      "metadata": {
        "colab": {
          "base_uri": "https://localhost:8080/"
        },
        "id": "v5GBWBkM22Ar",
        "outputId": "ebdd3792-09cd-4ecf-9bce-7d04d27d2cb4"
      },
      "execution_count": 26,
      "outputs": [
        {
          "output_type": "execute_result",
          "data": {
            "text/plain": [
              "Dataset FashionMNIST\n",
              "    Number of datapoints: 10000\n",
              "    Root location: /content/drive/MyDrive/Deep Learning/pytorch_zero_to_gans/data\n",
              "    Split: Test\n",
              "    StandardTransform\n",
              "Transform: ToTensor()"
            ]
          },
          "metadata": {},
          "execution_count": 26
        }
      ]
    },
    {
      "cell_type": "code",
      "source": [
        "image, label  = test_dataset[0]\n",
        "plt.imshow(image[0], cmap = 'gray')\n",
        "print(image.shape)\n",
        "print('Label: ', output_label(label))"
      ],
      "metadata": {
        "colab": {
          "base_uri": "https://localhost:8080/",
          "height": 465
        },
        "id": "Rh9Hpgcb7o3D",
        "outputId": "41422c8e-1c22-42ad-bb10-cb8ad2ac909f"
      },
      "execution_count": 33,
      "outputs": [
        {
          "output_type": "stream",
          "name": "stdout",
          "text": [
            "torch.Size([1, 28, 28])\n",
            "Label:  Ankle Boot\n"
          ]
        },
        {
          "output_type": "display_data",
          "data": {
            "text/plain": [
              "<Figure size 640x480 with 1 Axes>"
            ],
            "image/png": "[encoded data removed]"
          },
          "metadata": {}
        }
      ]
    },
    {
      "cell_type": "markdown",
      "source": [
        "img.unsqueeze simply adds another dimension at the begining of the 1x28x28 tensor, making it a 1x1x28x28\n",
        "tensor, which the model views as a batch containing a single image."
      ],
      "metadata": {
        "id": "1IC2IPk2RgpJ"
      }
    },
    {
      "cell_type": "code",
      "source": [
        "def predict_image(img, model):\n",
        "  xb = img.unsqueeze(0)\n",
        "  yb = model(xb)\n",
        "  preds = F.softmax(yb, dim = 1)\n",
        "  _, pred = torch.max(preds, dim = 1)\n",
        "  return pred[0].item()"
      ],
      "metadata": {
        "id": "jK9WsbQ_EflE"
      },
      "execution_count": 38,
      "outputs": []
    },
    {
      "cell_type": "code",
      "source": [
        "image, label  = test_dataset[0]\n",
        "plt.imshow(image[0], cmap = 'gray')\n",
        "print(image.shape)\n",
        "print(f'Actual label: {output_label(label)}, Predicted label: {output_label(predict_image(image, model))}')"
      ],
      "metadata": {
        "colab": {
          "base_uri": "https://localhost:8080/",
          "height": 465
        },
        "id": "5Z7QEYvTVYJf",
        "outputId": "1a8ab202-ad48-4cde-cebb-334224dd902d"
      },
      "execution_count": 39,
      "outputs": [
        {
          "output_type": "stream",
          "name": "stdout",
          "text": [
            "torch.Size([1, 28, 28])\n",
            "Actual label: Ankle Boot, Predicted label: Ankle Boot\n"
          ]
        },
        {
          "output_type": "display_data",
          "data": {
            "text/plain": [
              "<Figure size 640x480 with 1 Axes>"
            ],
            "image/png": "[encoded data removed]"
          },
          "metadata": {}
        }
      ]
    },
    {
      "cell_type": "code",
      "source": [
        "image, label  = test_dataset[100]\n",
        "plt.imshow(image[0], cmap = 'gray')\n",
        "print(image.shape)\n",
        "print(f'Actual label: {output_label(label)}, Predicted label: {output_label(predict_image(image, model))}')"
      ],
      "metadata": {
        "colab": {
          "base_uri": "https://localhost:8080/",
          "height": 465
        },
        "id": "1GxZSbh9VVxP",
        "outputId": "d97cf905-9df8-46af-80f0-b8c44d711f1a"
      },
      "execution_count": 40,
      "outputs": [
        {
          "output_type": "stream",
          "name": "stdout",
          "text": [
            "torch.Size([1, 28, 28])\n",
            "Actual label: Dress, Predicted label: Dress\n"
          ]
        },
        {
          "output_type": "display_data",
          "data": {
            "text/plain": [
              "<Figure size 640x480 with 1 Axes>"
            ],
            "image/png": "[encoded data removed]"
          },
          "metadata": {}
        }
      ]
    },
    {
      "cell_type": "code",
      "source": [
        "image, label  = test_dataset[10]\n",
        "plt.imshow(image[0], cmap = 'gray')\n",
        "print(image.shape)\n",
        "print(f'Actual label: {output_label(label)}, Predicted label: {output_label(predict_image(image, model))}')"
      ],
      "metadata": {
        "colab": {
          "base_uri": "https://localhost:8080/",
          "height": 465
        },
        "id": "PgxQhpcGG3Nz",
        "outputId": "4bee5802-f8c2-4bef-a8dd-228563778175"
      },
      "execution_count": 41,
      "outputs": [
        {
          "output_type": "stream",
          "name": "stdout",
          "text": [
            "torch.Size([1, 28, 28])\n",
            "Actual label: Coat, Predicted label: Coat\n"
          ]
        },
        {
          "output_type": "display_data",
          "data": {
            "text/plain": [
              "<Figure size 640x480 with 1 Axes>"
            ],
            "image/png": "[encoded data removed]"
          },
          "metadata": {}
        }
      ]
    },
    {
      "cell_type": "code",
      "source": [
        "image, label  = test_dataset[1000]\n",
        "plt.imshow(image[0], cmap = 'gray')\n",
        "print(image.shape)\n",
        "print(f'Actual label: {output_label(label)}, Predicted label: {output_label(predict_image(image, model))}')"
      ],
      "metadata": {
        "colab": {
          "base_uri": "https://localhost:8080/",
          "height": 465
        },
        "id": "4a5OoKRhK3Oe",
        "outputId": "a1b34ed6-a757-4782-c9ce-085dddd34c3d"
      },
      "execution_count": 42,
      "outputs": [
        {
          "output_type": "stream",
          "name": "stdout",
          "text": [
            "torch.Size([1, 28, 28])\n",
            "Actual label: T-shirt/Top, Predicted label: T-shirt/Top\n"
          ]
        },
        {
          "output_type": "display_data",
          "data": {
            "text/plain": [
              "<Figure size 640x480 with 1 Axes>"
            ],
            "image/png": "[encoded data removed]"
          },
          "metadata": {}
        }
      ]
    },
    {
      "cell_type": "code",
      "source": [],
      "metadata": {
        "id": "fAOjceatLXje"
      },
      "execution_count": 25,
      "outputs": []
    },
    {
      "cell_type": "code",
      "source": [],
      "metadata": {
        "id": "hNiz8Y4rUIDM"
      },
      "execution_count": 107,
      "outputs": []
    },
    {
      "cell_type": "code",
      "source": [],
      "metadata": {
        "id": "HhTwPgg1UQ_9"
      },
      "execution_count": 26,
      "outputs": []
    }
  ]
}